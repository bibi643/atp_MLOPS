{
 "cells": [
  {
   "cell_type": "code",
   "execution_count": 1,
   "id": "e8043f4c",
   "metadata": {},
   "outputs": [
    {
     "name": "stdout",
     "output_type": "stream",
     "text": [
      "<class 'pandas.core.frame.DataFrame'>\n",
      "RangeIndex: 44708 entries, 0 to 44707\n",
      "Data columns (total 23 columns):\n",
      " #   Column      Non-Null Count  Dtype  \n",
      "---  ------      --------------  -----  \n",
      " 0   ATP         44708 non-null  int64  \n",
      " 1   Location    44708 non-null  object \n",
      " 2   Tournament  44708 non-null  object \n",
      " 3   Date        44708 non-null  object \n",
      " 4   Series      44708 non-null  object \n",
      " 5   Court       44708 non-null  object \n",
      " 6   Surface     44708 non-null  object \n",
      " 7   Round       44708 non-null  object \n",
      " 8   Best of     44708 non-null  int64  \n",
      " 9   Winner      44708 non-null  object \n",
      " 10  Loser       44708 non-null  object \n",
      " 11  WRank       44708 non-null  int64  \n",
      " 12  LRank       44708 non-null  int64  \n",
      " 13  Wsets       44521 non-null  float64\n",
      " 14  Lsets       44521 non-null  float64\n",
      " 15  Comment     44708 non-null  object \n",
      " 16  PSW         32743 non-null  float64\n",
      " 17  PSL         32743 non-null  float64\n",
      " 18  B365W       39037 non-null  float64\n",
      " 19  B365L       39057 non-null  float64\n",
      " 20  elo_winner  44708 non-null  float64\n",
      " 21  elo_loser   44708 non-null  float64\n",
      " 22  proba_elo   44708 non-null  float64\n",
      "dtypes: float64(9), int64(4), object(10)\n",
      "memory usage: 7.8+ MB\n"
     ]
    }
   ],
   "source": [
    "import pandas as pd\n",
    "df = pd.read_csv(\"atp_data.csv\")\n",
    "df.info()"
   ]
  },
  {
   "cell_type": "markdown",
   "id": "9de842ed",
   "metadata": {},
   "source": [
    "# Transformations"
   ]
  },
  {
   "cell_type": "code",
   "execution_count": 2,
   "id": "d4f5ac21",
   "metadata": {},
   "outputs": [
    {
     "name": "stderr",
     "output_type": "stream",
     "text": [
      "/tmp/ipykernel_18769/1570066895.py:4: FutureWarning: The default value of numeric_only in DataFrame.mean is deprecated. In a future version, it will default to False. In addition, specifying 'numeric_only=None' is deprecated. Select only valid columns or specify the value of numeric_only to silence this warning.\n",
      "  df.fillna(df.mean(), inplace=True)\n"
     ]
    },
    {
     "data": {
      "text/html": [
       "<div>\n",
       "<style scoped>\n",
       "    .dataframe tbody tr th:only-of-type {\n",
       "        vertical-align: middle;\n",
       "    }\n",
       "\n",
       "    .dataframe tbody tr th {\n",
       "        vertical-align: top;\n",
       "    }\n",
       "\n",
       "    .dataframe thead th {\n",
       "        text-align: right;\n",
       "    }\n",
       "</style>\n",
       "<table border=\"1\" class=\"dataframe\">\n",
       "  <thead>\n",
       "    <tr style=\"text-align: right;\">\n",
       "      <th></th>\n",
       "      <th>ATP</th>\n",
       "      <th>Tournament</th>\n",
       "      <th>Series</th>\n",
       "      <th>Court</th>\n",
       "      <th>Surface</th>\n",
       "      <th>Round</th>\n",
       "      <th>Best of</th>\n",
       "      <th>Winner</th>\n",
       "      <th>Loser</th>\n",
       "      <th>WRank</th>\n",
       "      <th>LRank</th>\n",
       "      <th>PSW</th>\n",
       "      <th>PSL</th>\n",
       "      <th>B365W</th>\n",
       "      <th>B365L</th>\n",
       "      <th>elo_winner</th>\n",
       "      <th>elo_loser</th>\n",
       "      <th>proba_elo</th>\n",
       "    </tr>\n",
       "  </thead>\n",
       "  <tbody>\n",
       "    <tr>\n",
       "      <th>0</th>\n",
       "      <td>1</td>\n",
       "      <td>Australian Hardcourt Championships</td>\n",
       "      <td>International</td>\n",
       "      <td>Outdoor</td>\n",
       "      <td>Hard</td>\n",
       "      <td>1st Round</td>\n",
       "      <td>3</td>\n",
       "      <td>Dosedel S.</td>\n",
       "      <td>Ljubicic I.</td>\n",
       "      <td>63</td>\n",
       "      <td>77</td>\n",
       "      <td>1.927563</td>\n",
       "      <td>4.240179</td>\n",
       "      <td>1.822246</td>\n",
       "      <td>3.551007</td>\n",
       "      <td>1500.0</td>\n",
       "      <td>1500.0</td>\n",
       "      <td>0.5</td>\n",
       "    </tr>\n",
       "    <tr>\n",
       "      <th>1</th>\n",
       "      <td>3</td>\n",
       "      <td>Qatar Open</td>\n",
       "      <td>International</td>\n",
       "      <td>Outdoor</td>\n",
       "      <td>Hard</td>\n",
       "      <td>1st Round</td>\n",
       "      <td>3</td>\n",
       "      <td>Kiefer N.</td>\n",
       "      <td>Tarango J.</td>\n",
       "      <td>6</td>\n",
       "      <td>59</td>\n",
       "      <td>1.927563</td>\n",
       "      <td>4.240179</td>\n",
       "      <td>1.822246</td>\n",
       "      <td>3.551007</td>\n",
       "      <td>1500.0</td>\n",
       "      <td>1500.0</td>\n",
       "      <td>0.5</td>\n",
       "    </tr>\n",
       "    <tr>\n",
       "      <th>2</th>\n",
       "      <td>3</td>\n",
       "      <td>Qatar Open</td>\n",
       "      <td>International</td>\n",
       "      <td>Outdoor</td>\n",
       "      <td>Hard</td>\n",
       "      <td>1st Round</td>\n",
       "      <td>3</td>\n",
       "      <td>Gaudio G.</td>\n",
       "      <td>Luxa P.</td>\n",
       "      <td>73</td>\n",
       "      <td>174</td>\n",
       "      <td>1.927563</td>\n",
       "      <td>4.240179</td>\n",
       "      <td>1.822246</td>\n",
       "      <td>3.551007</td>\n",
       "      <td>1500.0</td>\n",
       "      <td>1500.0</td>\n",
       "      <td>0.5</td>\n",
       "    </tr>\n",
       "    <tr>\n",
       "      <th>3</th>\n",
       "      <td>3</td>\n",
       "      <td>Qatar Open</td>\n",
       "      <td>International</td>\n",
       "      <td>Outdoor</td>\n",
       "      <td>Hard</td>\n",
       "      <td>1st Round</td>\n",
       "      <td>3</td>\n",
       "      <td>El Aynaoui Y.</td>\n",
       "      <td>Dupuis A.</td>\n",
       "      <td>33</td>\n",
       "      <td>78</td>\n",
       "      <td>1.927563</td>\n",
       "      <td>4.240179</td>\n",
       "      <td>1.822246</td>\n",
       "      <td>3.551007</td>\n",
       "      <td>1500.0</td>\n",
       "      <td>1500.0</td>\n",
       "      <td>0.5</td>\n",
       "    </tr>\n",
       "    <tr>\n",
       "      <th>4</th>\n",
       "      <td>3</td>\n",
       "      <td>Qatar Open</td>\n",
       "      <td>International</td>\n",
       "      <td>Outdoor</td>\n",
       "      <td>Hard</td>\n",
       "      <td>1st Round</td>\n",
       "      <td>3</td>\n",
       "      <td>Cherkasov A.</td>\n",
       "      <td>Arazi H.</td>\n",
       "      <td>206</td>\n",
       "      <td>35</td>\n",
       "      <td>1.927563</td>\n",
       "      <td>4.240179</td>\n",
       "      <td>1.822246</td>\n",
       "      <td>3.551007</td>\n",
       "      <td>1500.0</td>\n",
       "      <td>1500.0</td>\n",
       "      <td>0.5</td>\n",
       "    </tr>\n",
       "  </tbody>\n",
       "</table>\n",
       "</div>"
      ],
      "text/plain": [
       "   ATP                          Tournament         Series    Court Surface  \\\n",
       "0    1  Australian Hardcourt Championships  International  Outdoor    Hard   \n",
       "1    3                          Qatar Open  International  Outdoor    Hard   \n",
       "2    3                          Qatar Open  International  Outdoor    Hard   \n",
       "3    3                          Qatar Open  International  Outdoor    Hard   \n",
       "4    3                          Qatar Open  International  Outdoor    Hard   \n",
       "\n",
       "       Round  Best of         Winner        Loser  WRank  LRank       PSW  \\\n",
       "0  1st Round        3     Dosedel S.  Ljubicic I.     63     77  1.927563   \n",
       "1  1st Round        3      Kiefer N.   Tarango J.      6     59  1.927563   \n",
       "2  1st Round        3      Gaudio G.      Luxa P.     73    174  1.927563   \n",
       "3  1st Round        3  El Aynaoui Y.    Dupuis A.     33     78  1.927563   \n",
       "4  1st Round        3   Cherkasov A.     Arazi H.    206     35  1.927563   \n",
       "\n",
       "        PSL     B365W     B365L  elo_winner  elo_loser  proba_elo  \n",
       "0  4.240179  1.822246  3.551007      1500.0     1500.0        0.5  \n",
       "1  4.240179  1.822246  3.551007      1500.0     1500.0        0.5  \n",
       "2  4.240179  1.822246  3.551007      1500.0     1500.0        0.5  \n",
       "3  4.240179  1.822246  3.551007      1500.0     1500.0        0.5  \n",
       "4  4.240179  1.822246  3.551007      1500.0     1500.0        0.5  "
      ]
     },
     "execution_count": 2,
     "metadata": {},
     "output_type": "execute_result"
    }
   ],
   "source": [
    "#Suppression des colonnes non pertinentes\n",
    "df = df.drop([\"Wsets\",\"Lsets\", \"Comment\", \"Location\",\"Date\"], axis = 1)\n",
    "# Remplacer les valeurs manquantes par la moyenne de chaque colonne numérique\n",
    "df.fillna(df.mean(), inplace=True)\n",
    "df.head()"
   ]
  },
  {
   "cell_type": "code",
   "execution_count": 3,
   "id": "76c3b927",
   "metadata": {},
   "outputs": [],
   "source": [
    "# Création de 2 nouvelles colonnes Joueur 1 et joueur 2 + isolation target\n",
    "import random\n",
    "\n",
    "df_transformed = df\n",
    "\n",
    "df_transformed['joueur1'] = ''\n",
    "df_transformed['joueur2'] = ''\n",
    "df_transformed['target'] = ''\n",
    "\n",
    "for index, row in df_transformed.iterrows():\n",
    "    if random.choice([True, False]):\n",
    "        df_transformed.at[index, 'joueur1'] = row['Winner']\n",
    "        df_transformed.at[index, 'joueur2'] = row['Loser']\n",
    "        df_transformed.at[index, 'target'] = 0\n",
    "    else:\n",
    "        df_transformed.at[index, 'joueur1'] = row['Loser']\n",
    "        df_transformed.at[index, 'joueur2'] = row['Winner']\n",
    "        df_transformed.at[index, 'target'] = 1\n",
    "\n",
    "df_transformed['target'] = df_transformed.apply(lambda row: 0 if row['Winner'] == row['joueur1'] else 1, axis=1)\n",
    "\n",
    "\n",
    "target = df_transformed[\"target\"]\n",
    "df_transformed = df_transformed.drop(['Winner', 'Loser', \"target\"], axis=1)"
   ]
  },
  {
   "cell_type": "markdown",
   "id": "26094c55",
   "metadata": {},
   "source": [
    "# Labelliser ? Encodage des noms des joueurs + Rank ?"
   ]
  },
  {
   "cell_type": "code",
   "execution_count": 4,
   "id": "edafbc01",
   "metadata": {},
   "outputs": [],
   "source": [
    "names_combination = []\n",
    "\n",
    "for index, row in df_transformed.iterrows():\n",
    "    v = []\n",
    "    v.append(row['joueur1'])\n",
    "    v.append(row['joueur2'])\n",
    "    names_combination.append(v)\n",
    "    \n",
    "\n",
    "    \n",
    "# Confirmer ou pas le maintien de joueur 1 / joueur 2 en dychotomie Ou préférable de labelliser avant \n",
    "# Créez une instance de LabelEncoder pour chaque colonne\n",
    "le_colonne1 = LabelEncoder()\n",
    "le_colonne2 = LabelEncoder()\n",
    "\n",
    "\n",
    "# Ajustez chaque LabelEncoder aux valeurs uniques des colonnes respectives\n",
    "le_colonne2.fit(df_transformed['joueur1'])\n",
    "le_colonne3.fit(df_transformed['joueur2'])\n",
    "\n",
    "# Transformez les colonnes en valeurs numériques\n",
    "df_transformed['joueur1_Encoded'] = le_colonne2.transform(df_transformed['joueur1'])\n",
    "df_transformed['joueur2_Encoded'] = le_colonne3.transform(df_transformed['joueur2'])"
   ]
  },
  {
   "cell_type": "code",
   "execution_count": null,
   "id": "acb193aa",
   "metadata": {},
   "outputs": [],
   "source": []
  },
  {
   "cell_type": "code",
   "execution_count": 5,
   "id": "7c17c819",
   "metadata": {},
   "outputs": [
    {
     "name": "stderr",
     "output_type": "stream",
     "text": [
      "/tmp/ipykernel_18769/3254653772.py:6: FutureWarning: In a future version of pandas all arguments of DataFrame.drop except for the argument 'labels' will be keyword-only.\n",
      "  df_fonc = df_fonc.drop(element,1)\n",
      "/tmp/ipykernel_18769/3254653772.py:6: FutureWarning: In a future version of pandas all arguments of DataFrame.drop except for the argument 'labels' will be keyword-only.\n",
      "  df_fonc = df_fonc.drop(element,1)\n",
      "/tmp/ipykernel_18769/3254653772.py:6: FutureWarning: In a future version of pandas all arguments of DataFrame.drop except for the argument 'labels' will be keyword-only.\n",
      "  df_fonc = df_fonc.drop(element,1)\n",
      "/tmp/ipykernel_18769/3254653772.py:6: FutureWarning: In a future version of pandas all arguments of DataFrame.drop except for the argument 'labels' will be keyword-only.\n",
      "  df_fonc = df_fonc.drop(element,1)\n",
      "/tmp/ipykernel_18769/3254653772.py:6: FutureWarning: In a future version of pandas all arguments of DataFrame.drop except for the argument 'labels' will be keyword-only.\n",
      "  df_fonc = df_fonc.drop(element,1)\n",
      "/tmp/ipykernel_18769/3254653772.py:6: FutureWarning: In a future version of pandas all arguments of DataFrame.drop except for the argument 'labels' will be keyword-only.\n",
      "  df_fonc = df_fonc.drop(element,1)\n",
      "/tmp/ipykernel_18769/3254653772.py:6: FutureWarning: In a future version of pandas all arguments of DataFrame.drop except for the argument 'labels' will be keyword-only.\n",
      "  df_fonc = df_fonc.drop(element,1)\n",
      "/tmp/ipykernel_18769/3254653772.py:6: FutureWarning: In a future version of pandas all arguments of DataFrame.drop except for the argument 'labels' will be keyword-only.\n",
      "  df_fonc = df_fonc.drop(element,1)\n"
     ]
    },
    {
     "data": {
      "text/html": [
       "<div>\n",
       "<style scoped>\n",
       "    .dataframe tbody tr th:only-of-type {\n",
       "        vertical-align: middle;\n",
       "    }\n",
       "\n",
       "    .dataframe tbody tr th {\n",
       "        vertical-align: top;\n",
       "    }\n",
       "\n",
       "    .dataframe thead th {\n",
       "        text-align: right;\n",
       "    }\n",
       "</style>\n",
       "<table border=\"1\" class=\"dataframe\">\n",
       "  <thead>\n",
       "    <tr style=\"text-align: right;\">\n",
       "      <th></th>\n",
       "      <th>ATP</th>\n",
       "      <th>WRank</th>\n",
       "      <th>LRank</th>\n",
       "      <th>PSW</th>\n",
       "      <th>PSL</th>\n",
       "      <th>B365W</th>\n",
       "      <th>B365L</th>\n",
       "      <th>elo_winner</th>\n",
       "      <th>elo_loser</th>\n",
       "      <th>proba_elo</th>\n",
       "      <th>...</th>\n",
       "      <th>joueur2_Zverev A.</th>\n",
       "      <th>joueur2_Zverev M.</th>\n",
       "      <th>joueur2_de Chaunac S.</th>\n",
       "      <th>joueur2_de Voest R.</th>\n",
       "      <th>joueur2_di Mauro A.</th>\n",
       "      <th>joueur2_di Pasquale A.</th>\n",
       "      <th>joueur2_van Gemerden M.</th>\n",
       "      <th>joueur2_van Lottum J.</th>\n",
       "      <th>joueur2_van Scheppingen D.</th>\n",
       "      <th>joueur2_van der Meer N.</th>\n",
       "    </tr>\n",
       "  </thead>\n",
       "  <tbody>\n",
       "    <tr>\n",
       "      <th>0</th>\n",
       "      <td>1</td>\n",
       "      <td>63</td>\n",
       "      <td>77</td>\n",
       "      <td>1.927563</td>\n",
       "      <td>4.240179</td>\n",
       "      <td>1.822246</td>\n",
       "      <td>3.551007</td>\n",
       "      <td>1500.0</td>\n",
       "      <td>1500.0</td>\n",
       "      <td>0.5</td>\n",
       "      <td>...</td>\n",
       "      <td>0</td>\n",
       "      <td>0</td>\n",
       "      <td>0</td>\n",
       "      <td>0</td>\n",
       "      <td>0</td>\n",
       "      <td>0</td>\n",
       "      <td>0</td>\n",
       "      <td>0</td>\n",
       "      <td>0</td>\n",
       "      <td>0</td>\n",
       "    </tr>\n",
       "    <tr>\n",
       "      <th>1</th>\n",
       "      <td>3</td>\n",
       "      <td>6</td>\n",
       "      <td>59</td>\n",
       "      <td>1.927563</td>\n",
       "      <td>4.240179</td>\n",
       "      <td>1.822246</td>\n",
       "      <td>3.551007</td>\n",
       "      <td>1500.0</td>\n",
       "      <td>1500.0</td>\n",
       "      <td>0.5</td>\n",
       "      <td>...</td>\n",
       "      <td>0</td>\n",
       "      <td>0</td>\n",
       "      <td>0</td>\n",
       "      <td>0</td>\n",
       "      <td>0</td>\n",
       "      <td>0</td>\n",
       "      <td>0</td>\n",
       "      <td>0</td>\n",
       "      <td>0</td>\n",
       "      <td>0</td>\n",
       "    </tr>\n",
       "    <tr>\n",
       "      <th>2</th>\n",
       "      <td>3</td>\n",
       "      <td>73</td>\n",
       "      <td>174</td>\n",
       "      <td>1.927563</td>\n",
       "      <td>4.240179</td>\n",
       "      <td>1.822246</td>\n",
       "      <td>3.551007</td>\n",
       "      <td>1500.0</td>\n",
       "      <td>1500.0</td>\n",
       "      <td>0.5</td>\n",
       "      <td>...</td>\n",
       "      <td>0</td>\n",
       "      <td>0</td>\n",
       "      <td>0</td>\n",
       "      <td>0</td>\n",
       "      <td>0</td>\n",
       "      <td>0</td>\n",
       "      <td>0</td>\n",
       "      <td>0</td>\n",
       "      <td>0</td>\n",
       "      <td>0</td>\n",
       "    </tr>\n",
       "    <tr>\n",
       "      <th>3</th>\n",
       "      <td>3</td>\n",
       "      <td>33</td>\n",
       "      <td>78</td>\n",
       "      <td>1.927563</td>\n",
       "      <td>4.240179</td>\n",
       "      <td>1.822246</td>\n",
       "      <td>3.551007</td>\n",
       "      <td>1500.0</td>\n",
       "      <td>1500.0</td>\n",
       "      <td>0.5</td>\n",
       "      <td>...</td>\n",
       "      <td>0</td>\n",
       "      <td>0</td>\n",
       "      <td>0</td>\n",
       "      <td>0</td>\n",
       "      <td>0</td>\n",
       "      <td>0</td>\n",
       "      <td>0</td>\n",
       "      <td>0</td>\n",
       "      <td>0</td>\n",
       "      <td>0</td>\n",
       "    </tr>\n",
       "    <tr>\n",
       "      <th>4</th>\n",
       "      <td>3</td>\n",
       "      <td>206</td>\n",
       "      <td>35</td>\n",
       "      <td>1.927563</td>\n",
       "      <td>4.240179</td>\n",
       "      <td>1.822246</td>\n",
       "      <td>3.551007</td>\n",
       "      <td>1500.0</td>\n",
       "      <td>1500.0</td>\n",
       "      <td>0.5</td>\n",
       "      <td>...</td>\n",
       "      <td>0</td>\n",
       "      <td>0</td>\n",
       "      <td>0</td>\n",
       "      <td>0</td>\n",
       "      <td>0</td>\n",
       "      <td>0</td>\n",
       "      <td>0</td>\n",
       "      <td>0</td>\n",
       "      <td>0</td>\n",
       "      <td>0</td>\n",
       "    </tr>\n",
       "  </tbody>\n",
       "</table>\n",
       "<p>5 rows × 2586 columns</p>\n",
       "</div>"
      ],
      "text/plain": [
       "   ATP  WRank  LRank       PSW       PSL     B365W     B365L  elo_winner  \\\n",
       "0    1     63     77  1.927563  4.240179  1.822246  3.551007      1500.0   \n",
       "1    3      6     59  1.927563  4.240179  1.822246  3.551007      1500.0   \n",
       "2    3     73    174  1.927563  4.240179  1.822246  3.551007      1500.0   \n",
       "3    3     33     78  1.927563  4.240179  1.822246  3.551007      1500.0   \n",
       "4    3    206     35  1.927563  4.240179  1.822246  3.551007      1500.0   \n",
       "\n",
       "   elo_loser  proba_elo  ...  joueur2_Zverev A.  joueur2_Zverev M.  \\\n",
       "0     1500.0        0.5  ...                  0                  0   \n",
       "1     1500.0        0.5  ...                  0                  0   \n",
       "2     1500.0        0.5  ...                  0                  0   \n",
       "3     1500.0        0.5  ...                  0                  0   \n",
       "4     1500.0        0.5  ...                  0                  0   \n",
       "\n",
       "   joueur2_de Chaunac S.  joueur2_de Voest R.  joueur2_di Mauro A.  \\\n",
       "0                      0                    0                    0   \n",
       "1                      0                    0                    0   \n",
       "2                      0                    0                    0   \n",
       "3                      0                    0                    0   \n",
       "4                      0                    0                    0   \n",
       "\n",
       "   joueur2_di Pasquale A.  joueur2_van Gemerden M.  joueur2_van Lottum J.  \\\n",
       "0                       0                        0                      0   \n",
       "1                       0                        0                      0   \n",
       "2                       0                        0                      0   \n",
       "3                       0                        0                      0   \n",
       "4                       0                        0                      0   \n",
       "\n",
       "   joueur2_van Scheppingen D.  joueur2_van der Meer N.  \n",
       "0                           0                        0  \n",
       "1                           0                        0  \n",
       "2                           0                        0  \n",
       "3                           0                        0  \n",
       "4                           0                        0  \n",
       "\n",
       "[5 rows x 2586 columns]"
      ]
     },
     "execution_count": 5,
     "metadata": {},
     "output_type": "execute_result"
    }
   ],
   "source": [
    "columns_to_dichotomize = [\"Tournament\", \"Series\",\"Court\", \"Surface\", \"Round\", \"Best of\", \"joueur1\", \"joueur2\"]\n",
    "\n",
    "def dychotomize(df_fonc, columns_to_dichotomize):\n",
    "    for element in columns_to_dichotomize:\n",
    "        df_fonc = df_fonc.join(pd.get_dummies(df_fonc[element], prefix=element), how='left')\n",
    "        df_fonc = df_fonc.drop(element,1)\n",
    "    return df_fonc\n",
    "\n",
    "df_transformed = dychotomize(df_transformed, columns_to_dichotomize)\n",
    "df_transformed.head()"
   ]
  },
  {
   "cell_type": "markdown",
   "id": "71a9e9a4",
   "metadata": {},
   "source": [
    "# Preprocessing"
   ]
  },
  {
   "cell_type": "code",
   "execution_count": 6,
   "id": "5f746a78",
   "metadata": {},
   "outputs": [],
   "source": [
    "from sklearn.model_selection import train_test_split\n",
    "from sklearn.preprocessing import MinMaxScaler\n",
    "\n",
    "X_train, X_test, y_train, y_test = train_test_split(df_transformed, target, test_size=0.2, random_state=66)\n",
    "\n",
    "scaler = MinMaxScaler()\n",
    "df_transformed[df_transformed.columns] = scaler.fit_transform(df_transformed[df_transformed.columns])\n",
    "\n"
   ]
  },
  {
   "cell_type": "markdown",
   "id": "f61faf80",
   "metadata": {},
   "source": [
    "# Regression logistique"
   ]
  },
  {
   "cell_type": "code",
   "execution_count": 23,
   "id": "08041c71",
   "metadata": {},
   "outputs": [
    {
     "name": "stderr",
     "output_type": "stream",
     "text": [
      "/home/rui/anaconda3/lib/python3.11/site-packages/sklearn/linear_model/_logistic.py:458: ConvergenceWarning: lbfgs failed to converge (status=1):\n",
      "STOP: TOTAL NO. of ITERATIONS REACHED LIMIT.\n",
      "\n",
      "Increase the number of iterations (max_iter) or scale the data as shown in:\n",
      "    https://scikit-learn.org/stable/modules/preprocessing.html\n",
      "Please also refer to the documentation for alternative solver options:\n",
      "    https://scikit-learn.org/stable/modules/linear_model.html#logistic-regression\n",
      "  n_iter_i = _check_optimize_result(\n"
     ]
    },
    {
     "data": {
      "text/html": [
       "<style>#sk-container-id-1 {color: black;background-color: white;}#sk-container-id-1 pre{padding: 0;}#sk-container-id-1 div.sk-toggleable {background-color: white;}#sk-container-id-1 label.sk-toggleable__label {cursor: pointer;display: block;width: 100%;margin-bottom: 0;padding: 0.3em;box-sizing: border-box;text-align: center;}#sk-container-id-1 label.sk-toggleable__label-arrow:before {content: \"▸\";float: left;margin-right: 0.25em;color: #696969;}#sk-container-id-1 label.sk-toggleable__label-arrow:hover:before {color: black;}#sk-container-id-1 div.sk-estimator:hover label.sk-toggleable__label-arrow:before {color: black;}#sk-container-id-1 div.sk-toggleable__content {max-height: 0;max-width: 0;overflow: hidden;text-align: left;background-color: #f0f8ff;}#sk-container-id-1 div.sk-toggleable__content pre {margin: 0.2em;color: black;border-radius: 0.25em;background-color: #f0f8ff;}#sk-container-id-1 input.sk-toggleable__control:checked~div.sk-toggleable__content {max-height: 200px;max-width: 100%;overflow: auto;}#sk-container-id-1 input.sk-toggleable__control:checked~label.sk-toggleable__label-arrow:before {content: \"▾\";}#sk-container-id-1 div.sk-estimator input.sk-toggleable__control:checked~label.sk-toggleable__label {background-color: #d4ebff;}#sk-container-id-1 div.sk-label input.sk-toggleable__control:checked~label.sk-toggleable__label {background-color: #d4ebff;}#sk-container-id-1 input.sk-hidden--visually {border: 0;clip: rect(1px 1px 1px 1px);clip: rect(1px, 1px, 1px, 1px);height: 1px;margin: -1px;overflow: hidden;padding: 0;position: absolute;width: 1px;}#sk-container-id-1 div.sk-estimator {font-family: monospace;background-color: #f0f8ff;border: 1px dotted black;border-radius: 0.25em;box-sizing: border-box;margin-bottom: 0.5em;}#sk-container-id-1 div.sk-estimator:hover {background-color: #d4ebff;}#sk-container-id-1 div.sk-parallel-item::after {content: \"\";width: 100%;border-bottom: 1px solid gray;flex-grow: 1;}#sk-container-id-1 div.sk-label:hover label.sk-toggleable__label {background-color: #d4ebff;}#sk-container-id-1 div.sk-serial::before {content: \"\";position: absolute;border-left: 1px solid gray;box-sizing: border-box;top: 0;bottom: 0;left: 50%;z-index: 0;}#sk-container-id-1 div.sk-serial {display: flex;flex-direction: column;align-items: center;background-color: white;padding-right: 0.2em;padding-left: 0.2em;position: relative;}#sk-container-id-1 div.sk-item {position: relative;z-index: 1;}#sk-container-id-1 div.sk-parallel {display: flex;align-items: stretch;justify-content: center;background-color: white;position: relative;}#sk-container-id-1 div.sk-item::before, #sk-container-id-1 div.sk-parallel-item::before {content: \"\";position: absolute;border-left: 1px solid gray;box-sizing: border-box;top: 0;bottom: 0;left: 50%;z-index: -1;}#sk-container-id-1 div.sk-parallel-item {display: flex;flex-direction: column;z-index: 1;position: relative;background-color: white;}#sk-container-id-1 div.sk-parallel-item:first-child::after {align-self: flex-end;width: 50%;}#sk-container-id-1 div.sk-parallel-item:last-child::after {align-self: flex-start;width: 50%;}#sk-container-id-1 div.sk-parallel-item:only-child::after {width: 0;}#sk-container-id-1 div.sk-dashed-wrapped {border: 1px dashed gray;margin: 0 0.4em 0.5em 0.4em;box-sizing: border-box;padding-bottom: 0.4em;background-color: white;}#sk-container-id-1 div.sk-label label {font-family: monospace;font-weight: bold;display: inline-block;line-height: 1.2em;}#sk-container-id-1 div.sk-label-container {text-align: center;}#sk-container-id-1 div.sk-container {/* jupyter's `normalize.less` sets `[hidden] { display: none; }` but bootstrap.min.css set `[hidden] { display: none !important; }` so we also need the `!important` here to be able to override the default hidden behavior on the sphinx rendered scikit-learn.org. See: https://github.com/scikit-learn/scikit-learn/issues/21755 */display: inline-block !important;position: relative;}#sk-container-id-1 div.sk-text-repr-fallback {display: none;}</style><div id=\"sk-container-id-1\" class=\"sk-top-container\"><div class=\"sk-text-repr-fallback\"><pre>LogisticRegression()</pre><b>In a Jupyter environment, please rerun this cell to show the HTML representation or trust the notebook. <br />On GitHub, the HTML representation is unable to render, please try loading this page with nbviewer.org.</b></div><div class=\"sk-container\" hidden><div class=\"sk-item\"><div class=\"sk-estimator sk-toggleable\"><input class=\"sk-toggleable__control sk-hidden--visually\" id=\"sk-estimator-id-1\" type=\"checkbox\" checked><label for=\"sk-estimator-id-1\" class=\"sk-toggleable__label sk-toggleable__label-arrow\">LogisticRegression</label><div class=\"sk-toggleable__content\"><pre>LogisticRegression()</pre></div></div></div></div></div>"
      ],
      "text/plain": [
       "LogisticRegression()"
      ]
     },
     "execution_count": 23,
     "metadata": {},
     "output_type": "execute_result"
    }
   ],
   "source": [
    "from sklearn import linear_model\n",
    "\n",
    "clf = linear_model.LogisticRegression(C=1.0)\n",
    "clf.fit(X_train, y_train)\n"
   ]
  },
  {
   "cell_type": "code",
   "execution_count": 25,
   "id": "55363246",
   "metadata": {},
   "outputs": [
    {
     "name": "stdout",
     "output_type": "stream",
     "text": [
      "Classe prédite     0     1\n",
      "Classe réelle             \n",
      "0               2802  1728\n",
      "1               2195  2217\n"
     ]
    }
   ],
   "source": [
    "y_pred = clf.predict(X_test)\n",
    "cm = pd.crosstab(y_test, y_pred, rownames=['Classe réelle'], colnames=['Classe prédite'])\n",
    "print(cm)"
   ]
  },
  {
   "cell_type": "code",
   "execution_count": 27,
   "id": "72e5ba9f",
   "metadata": {},
   "outputs": [
    {
     "name": "stdout",
     "output_type": "stream",
     "text": [
      "              precision    recall  f1-score   support\n",
      "\n",
      "           0       0.56      0.62      0.59      4530\n",
      "           1       0.56      0.50      0.53      4412\n",
      "\n",
      "    accuracy                           0.56      8942\n",
      "   macro avg       0.56      0.56      0.56      8942\n",
      "weighted avg       0.56      0.56      0.56      8942\n",
      "\n"
     ]
    }
   ],
   "source": [
    "from sklearn.metrics import classification_report\n",
    "report = classification_report(y_test, y_pred)\n",
    "print(report)"
   ]
  },
  {
   "cell_type": "markdown",
   "id": "8d3473be",
   "metadata": {},
   "source": [
    "# SVM"
   ]
  },
  {
   "cell_type": "code",
   "execution_count": null,
   "id": "c8c35d94",
   "metadata": {},
   "outputs": [],
   "source": [
    "from sklearn import svm\n",
    "\n",
    "clf2 = svm.SVC(gamma=0.01,  kernel='poly')\n",
    "clf2.fit(X_train, y_train)\n",
    "y_pred2 = clf2.predict(X_test)"
   ]
  },
  {
   "cell_type": "code",
   "execution_count": null,
   "id": "ed42755a",
   "metadata": {},
   "outputs": [],
   "source": [
    "cm2 = pd.crosstab(y_test, y_pred2, rownames=['Classe réelle'], colnames=['Classe prédite'])\n",
    "print(cm2)"
   ]
  },
  {
   "cell_type": "code",
   "execution_count": null,
   "id": "0cdff842",
   "metadata": {},
   "outputs": [],
   "source": [
    "report2 = classification_report(y_test, y_pred2)\n",
    "print(report2)"
   ]
  },
  {
   "cell_type": "markdown",
   "id": "a1685640",
   "metadata": {},
   "source": [
    "# KNN"
   ]
  },
  {
   "cell_type": "code",
   "execution_count": 7,
   "id": "0e34befe",
   "metadata": {},
   "outputs": [],
   "source": [
    "from sklearn import neighbors\n",
    "\n",
    "knn = neighbors.KNeighborsClassifier(n_neighbors=7, metric='minkowski')\n",
    "knn.fit(X_train, y_train)\n",
    "y_pred_knn = knn.predict(X_test)"
   ]
  },
  {
   "cell_type": "code",
   "execution_count": 8,
   "id": "dc6c23c0",
   "metadata": {},
   "outputs": [
    {
     "name": "stdout",
     "output_type": "stream",
     "text": [
      "Classe prédite     0     1\n",
      "Classe réelle             \n",
      "0               2219  2301\n",
      "1               2214  2208\n"
     ]
    }
   ],
   "source": [
    "knnres = pd.crosstab(y_test, y_pred_knn, rownames=['Classe réelle'], colnames=['Classe prédite'])\n",
    "print(knnres)"
   ]
  },
  {
   "cell_type": "code",
   "execution_count": 10,
   "id": "7993ee4b",
   "metadata": {},
   "outputs": [
    {
     "name": "stdout",
     "output_type": "stream",
     "text": [
      "              precision    recall  f1-score   support\n",
      "\n",
      "           0       0.50      0.49      0.50      4520\n",
      "           1       0.49      0.50      0.49      4422\n",
      "\n",
      "    accuracy                           0.50      8942\n",
      "   macro avg       0.50      0.50      0.50      8942\n",
      "weighted avg       0.50      0.50      0.50      8942\n",
      "\n"
     ]
    }
   ],
   "source": [
    "from sklearn.metrics import classification_report\n",
    "report3 = classification_report(y_test, y_pred_knn)\n",
    "print(report3)"
   ]
  },
  {
   "cell_type": "markdown",
   "id": "6cc0b540",
   "metadata": {},
   "source": [
    "# Arbre de décision"
   ]
  },
  {
   "cell_type": "code",
   "execution_count": 11,
   "id": "07fe2bd3",
   "metadata": {},
   "outputs": [],
   "source": [
    "from sklearn.tree import DecisionTreeClassifier\n",
    "\n",
    "dt_clf = DecisionTreeClassifier(criterion ='entropy', max_depth=4, random_state=123)\n",
    "dt_clf.fit(X_train, y_train)\n",
    "y_pred_tree = dt_clf.predict(X_test)"
   ]
  },
  {
   "cell_type": "code",
   "execution_count": 12,
   "id": "e9f79d3c",
   "metadata": {},
   "outputs": [
    {
     "name": "stdout",
     "output_type": "stream",
     "text": [
      "Classe prédite    0     1\n",
      "Classe réelle            \n",
      "0               245  4275\n",
      "1                22  4400\n"
     ]
    }
   ],
   "source": [
    "treeres = pd.crosstab(y_test, y_pred_tree, rownames=['Classe réelle'], colnames=['Classe prédite'])\n",
    "print(treeres)"
   ]
  },
  {
   "cell_type": "code",
   "execution_count": 13,
   "id": "758b4cbe",
   "metadata": {},
   "outputs": [
    {
     "name": "stdout",
     "output_type": "stream",
     "text": [
      "              precision    recall  f1-score   support\n",
      "\n",
      "           0       0.92      0.05      0.10      4520\n",
      "           1       0.51      1.00      0.67      4422\n",
      "\n",
      "    accuracy                           0.52      8942\n",
      "   macro avg       0.71      0.52      0.39      8942\n",
      "weighted avg       0.71      0.52      0.38      8942\n",
      "\n"
     ]
    }
   ],
   "source": [
    "report4 = classification_report(y_test, y_pred_tree)\n",
    "print(report4)"
   ]
  },
  {
   "cell_type": "markdown",
   "id": "c7edd6dd",
   "metadata": {},
   "source": [
    "# Forets Aleatoires"
   ]
  },
  {
   "cell_type": "code",
   "execution_count": 14,
   "id": "a3f014c8",
   "metadata": {},
   "outputs": [],
   "source": [
    "from sklearn import ensemble\n",
    "\n",
    "forest_clf = ensemble.RandomForestClassifier(n_jobs=-1, random_state=321)\n",
    "forest_clf.fit(X_train, y_train)\n",
    "y_pred_forest = forest_clf.predict(X_test)"
   ]
  },
  {
   "cell_type": "code",
   "execution_count": 15,
   "id": "ac4bec10",
   "metadata": {},
   "outputs": [
    {
     "name": "stdout",
     "output_type": "stream",
     "text": [
      "Classe prédite     0     1\n",
      "Classe réelle             \n",
      "0               3500  1020\n",
      "1                917  3505\n"
     ]
    }
   ],
   "source": [
    "forestres = pd.crosstab(y_test, y_pred_forest, rownames=['Classe réelle'], colnames=['Classe prédite'])\n",
    "print(forestres)"
   ]
  },
  {
   "cell_type": "code",
   "execution_count": 16,
   "id": "f8a2ef9b",
   "metadata": {},
   "outputs": [
    {
     "name": "stdout",
     "output_type": "stream",
     "text": [
      "              precision    recall  f1-score   support\n",
      "\n",
      "           0       0.79      0.77      0.78      4520\n",
      "           1       0.77      0.79      0.78      4422\n",
      "\n",
      "    accuracy                           0.78      8942\n",
      "   macro avg       0.78      0.78      0.78      8942\n",
      "weighted avg       0.78      0.78      0.78      8942\n",
      "\n"
     ]
    }
   ],
   "source": [
    "report5 = classification_report(y_test, y_pred_forest)\n",
    "print(report5)"
   ]
  },
  {
   "cell_type": "markdown",
   "id": "f2dd8b55",
   "metadata": {},
   "source": [
    "# Boosting Bagging ? XGBoost ?"
   ]
  },
  {
   "cell_type": "code",
   "execution_count": null,
   "id": "52a0e68a",
   "metadata": {},
   "outputs": [],
   "source": []
  },
  {
   "cell_type": "markdown",
   "id": "aecae5dd",
   "metadata": {},
   "source": [
    "# Utilisation pour predire ulterieurement"
   ]
  },
  {
   "cell_type": "code",
   "execution_count": null,
   "id": "c432d98f",
   "metadata": {},
   "outputs": [],
   "source": [
    "#Exemple de code\n",
    "\n",
    "new_data = {\n",
    "    'player1': player1,\n",
    "    'player2': player2,\n",
    "\n",
    "    'Elo_Player1': elo_player1, #get d'une api de classement pour avoir classement en temps reel?\n",
    "    'Elo_Player2': elo_player2\n",
    "}\n",
    "\n",
    "# Transformez le dictionnaire en un DataFrame\n",
    "new_data_df = pd.DataFrame([new_data])\n",
    "\n",
    "#Encoder les nom des joueurs si besoin\n",
    "\n",
    "# Utilisez le modèle pour effectuer la prédiction.\n",
    "result = model.predict(new_data_df)\n",
    "\n",
    "# Le résultat sera la classe prédite \n",
    "print(f\"Résultat de la prédiction : {result[0]}\")"
   ]
  }
 ],
 "metadata": {
  "kernelspec": {
   "display_name": "Python 3 (ipykernel)",
   "language": "python",
   "name": "python3"
  },
  "language_info": {
   "codemirror_mode": {
    "name": "ipython",
    "version": 3
   },
   "file_extension": ".py",
   "mimetype": "text/x-python",
   "name": "python",
   "nbconvert_exporter": "python",
   "pygments_lexer": "ipython3",
   "version": "3.11.3"
  }
 },
 "nbformat": 4,
 "nbformat_minor": 5
}
