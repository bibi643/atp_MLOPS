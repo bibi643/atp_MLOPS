{
 "cells": [
  {
   "cell_type": "code",
   "execution_count": 79,
   "metadata": {},
   "outputs": [],
   "source": [
    "import pandas as pd\n",
    "import os\n",
    "import numpy as np\n",
    "import math\n",
    "import joblib\n",
    "\n",
    "import matplotlib.pyplot as plt\n",
    "\n",
    "from sklearn.preprocessing import OneHotEncoder, StandardScaler\n",
    "from sklearn.compose import ColumnTransformer\n",
    "from sklearn.model_selection import train_test_split, cross_val_score ,learning_curve\n",
    "\n",
    "from sklearn.linear_model import LogisticRegression\n",
    "from sklearn.metrics import accuracy_score, classification_report, confusion_matrix\n",
    "\n",
    "\n",
    "import category_encoders as ce"
   ]
  },
  {
   "cell_type": "code",
   "execution_count": null,
   "metadata": {},
   "outputs": [],
   "source": []
  },
  {
   "cell_type": "markdown",
   "metadata": {},
   "source": [
    "# Definition des variables \n",
    "\n",
    "\n",
    "| Variable   | Définition                                                                |\n",
    "| ---------- | ------------------------------------------------------------------------- |\n",
    "| atp        | Nuémro du Tournoi, uniquement masculin                                              |\n",
    "| location   | Lieu du tournois                                                          |\n",
    "| tournament | Nom du tournois                                                           |\n",
    "| date       | Date du match                                                             |\n",
    "| series     | Type de tournois : Masters International Masters 1000 ,…                  |\n",
    "| court      | Indoor ou outdoor                                                         |\n",
    "| surface    | Type de surface  terre batue dur herbe, …                                 |\n",
    "| round      | Tour du match : qualif  phase finale 1/2  1/4  …                          |\n",
    "| best of    | Nombre de set maximun à jouer                                             |\n",
    "| winner     | Gagnant du match                                                          |\n",
    "| loser      | Perdant du match                                                          |\n",
    "| wrank      | Classement atp du gagnant au début du tournoi :pas maj pendant le tournoi |\n",
    "| lrank      | Classement atp du perdant au début du tournoi                             |\n",
    "| wsets      | Nombre de set gagné pour le gagnant                                       |\n",
    "| lsets      | Nombre de set gagné pour le perdant                                       |\n",
    "| comment    | Commentaire sur le match                                                  |\n",
    "| psw        | Pinnacles sports côte du gagnant                                          |\n",
    "| psl        | Pinnacles sports côte du perdant                                          |\n",
    "| b365w      | BET365 côte du gagnant                                                    |\n",
    "| b365l      | BET365 côte du perdant                                                    |\n",
    "| elo_winner | ?                                                                         |\n",
    "| elo_loser  | ?                                                                         |\n",
    "| proba_elo  | Rapport des deux elo                                                      |\n",
    "\n",
    "\n",
    "> Source http://tennis-data.co.uk/notes.txt\n",
    "\n",
    "Dans la colonne remark on peut lire \"Walkover\" (victoire sur tapis vert).\n",
    "Cela engendre une valeur manquante pour wset et lset\n",
    "\n",
    "Retired en revanche n'entraine pas nécessairement une valeur manquante"
   ]
  },
  {
   "cell_type": "code",
   "execution_count": null,
   "metadata": {},
   "outputs": [],
   "source": [
    "# Def function"
   ]
  },
  {
   "cell_type": "code",
   "execution_count": 15,
   "metadata": {},
   "outputs": [],
   "source": [
    "def plot_histograms_for_dataframe(data, graphs_per_row=3):\n",
    "    num_columns = len(data.columns)\n",
    "    num_rows = math.ceil(num_columns / graphs_per_row)\n",
    "\n",
    "    fig, axes = plt.subplots(num_rows, graphs_per_row, figsize=(15, 10))\n",
    "\n",
    "    for i, column in enumerate(data.columns):\n",
    "        if pd.api.types.is_numeric_dtype(data[column]):\n",
    "            row = i // graphs_per_row\n",
    "            col = i % graphs_per_row\n",
    "            data[column].plot.hist(ax=axes[row, col])\n",
    "            axes[row, col].set_title(f'Histogramme de {column}')\n",
    "            axes[row, col].set_xlabel(column)\n",
    "            axes[row, col].set_ylabel('Fréquence')\n",
    "        else:\n",
    "            row = i // graphs_per_row\n",
    "            col = i % graphs_per_row\n",
    "            data[column].value_counts().plot(kind='bar', ax=axes[row, col])\n",
    "            axes[row, col].set_title(f'Histogramme de {column}')\n",
    "            axes[row, col].set_xlabel(column)\n",
    "            axes[row, col].set_ylabel('Fréquence')\n",
    "\n",
    "    plt.tight_layout()\n",
    "    plt.show()\n"
   ]
  },
  {
   "cell_type": "code",
   "execution_count": 25,
   "metadata": {},
   "outputs": [],
   "source": [
    "# a passer en fonction\n",
    "def frequency_encoding(data, column_name):\n",
    "    # Créer un dictionnaire de fréquence pour la colonne spécifiée\n",
    "    freq_encoding = data[column_name].value_counts(normalize=True).to_dict()\n",
    "    \n",
    "    # Appliquer l'encodage de fréquence à la colonne\n",
    "    data[column_name + '_encoded'] = data[column_name].map(freq_encoding)\n",
    "    \n",
    "    return data"
   ]
  },
  {
   "cell_type": "code",
   "execution_count": 2,
   "metadata": {},
   "outputs": [],
   "source": [
    "#Path\n",
    "\n",
    "path_root = \"/home/ubuntu/bet_tennis\"\n",
    "file_bet = os.path.join(path_root, \"atp_data.csv\")"
   ]
  },
  {
   "cell_type": "code",
   "execution_count": 5,
   "metadata": {},
   "outputs": [],
   "source": [
    "keeping_col =[#'atp'\n",
    "              'location'\n",
    "              ,'tournament'\n",
    "              ,'date'\n",
    "              ,'series'\n",
    "              ,'surface'\n",
    "              ,'round'\n",
    "              ,'best_of'\n",
    "              ,'proba_elo'\n",
    "              ]\n",
    "\n",
    "target='winner'"
   ]
  },
  {
   "cell_type": "code",
   "execution_count": 3,
   "metadata": {},
   "outputs": [],
   "source": [
    "#Import data set \n",
    "df = pd.read_csv(file_bet, sep=\",\")\\\n",
    "       .rename(columns={'Best of': 'best_of'})\\\n",
    "       .assign(Date=lambda x: pd.to_datetime(x.Date, format='%Y-%m-%d'))\\\n",
    "       .rename(columns=str.lower) #lower all columns names\n"
   ]
  },
  {
   "cell_type": "code",
   "execution_count": 4,
   "metadata": {},
   "outputs": [
    {
     "data": {
      "text/html": [
       "<div>\n",
       "<style scoped>\n",
       "    .dataframe tbody tr th:only-of-type {\n",
       "        vertical-align: middle;\n",
       "    }\n",
       "\n",
       "    .dataframe tbody tr th {\n",
       "        vertical-align: top;\n",
       "    }\n",
       "\n",
       "    .dataframe thead th {\n",
       "        text-align: right;\n",
       "    }\n",
       "</style>\n",
       "<table border=\"1\" class=\"dataframe\">\n",
       "  <thead>\n",
       "    <tr style=\"text-align: right;\">\n",
       "      <th></th>\n",
       "      <th>atp</th>\n",
       "      <th>location</th>\n",
       "      <th>tournament</th>\n",
       "      <th>date</th>\n",
       "      <th>series</th>\n",
       "      <th>court</th>\n",
       "      <th>surface</th>\n",
       "      <th>round</th>\n",
       "      <th>best_of</th>\n",
       "      <th>winner</th>\n",
       "      <th>...</th>\n",
       "      <th>wsets</th>\n",
       "      <th>lsets</th>\n",
       "      <th>comment</th>\n",
       "      <th>psw</th>\n",
       "      <th>psl</th>\n",
       "      <th>b365w</th>\n",
       "      <th>b365l</th>\n",
       "      <th>elo_winner</th>\n",
       "      <th>elo_loser</th>\n",
       "      <th>proba_elo</th>\n",
       "    </tr>\n",
       "  </thead>\n",
       "  <tbody>\n",
       "    <tr>\n",
       "      <th>0</th>\n",
       "      <td>1</td>\n",
       "      <td>Adelaide</td>\n",
       "      <td>Australian Hardcourt Championships</td>\n",
       "      <td>2000-01-03</td>\n",
       "      <td>International</td>\n",
       "      <td>Outdoor</td>\n",
       "      <td>Hard</td>\n",
       "      <td>1st Round</td>\n",
       "      <td>3</td>\n",
       "      <td>Dosedel S.</td>\n",
       "      <td>...</td>\n",
       "      <td>2.0</td>\n",
       "      <td>0.0</td>\n",
       "      <td>Completed</td>\n",
       "      <td>NaN</td>\n",
       "      <td>NaN</td>\n",
       "      <td>NaN</td>\n",
       "      <td>NaN</td>\n",
       "      <td>1500.0</td>\n",
       "      <td>1500.0</td>\n",
       "      <td>0.5</td>\n",
       "    </tr>\n",
       "    <tr>\n",
       "      <th>1</th>\n",
       "      <td>3</td>\n",
       "      <td>Doha</td>\n",
       "      <td>Qatar Open</td>\n",
       "      <td>2000-01-03</td>\n",
       "      <td>International</td>\n",
       "      <td>Outdoor</td>\n",
       "      <td>Hard</td>\n",
       "      <td>1st Round</td>\n",
       "      <td>3</td>\n",
       "      <td>Kiefer N.</td>\n",
       "      <td>...</td>\n",
       "      <td>2.0</td>\n",
       "      <td>0.0</td>\n",
       "      <td>Completed</td>\n",
       "      <td>NaN</td>\n",
       "      <td>NaN</td>\n",
       "      <td>NaN</td>\n",
       "      <td>NaN</td>\n",
       "      <td>1500.0</td>\n",
       "      <td>1500.0</td>\n",
       "      <td>0.5</td>\n",
       "    </tr>\n",
       "    <tr>\n",
       "      <th>2</th>\n",
       "      <td>3</td>\n",
       "      <td>Doha</td>\n",
       "      <td>Qatar Open</td>\n",
       "      <td>2000-01-03</td>\n",
       "      <td>International</td>\n",
       "      <td>Outdoor</td>\n",
       "      <td>Hard</td>\n",
       "      <td>1st Round</td>\n",
       "      <td>3</td>\n",
       "      <td>Gaudio G.</td>\n",
       "      <td>...</td>\n",
       "      <td>2.0</td>\n",
       "      <td>1.0</td>\n",
       "      <td>Completed</td>\n",
       "      <td>NaN</td>\n",
       "      <td>NaN</td>\n",
       "      <td>NaN</td>\n",
       "      <td>NaN</td>\n",
       "      <td>1500.0</td>\n",
       "      <td>1500.0</td>\n",
       "      <td>0.5</td>\n",
       "    </tr>\n",
       "    <tr>\n",
       "      <th>3</th>\n",
       "      <td>3</td>\n",
       "      <td>Doha</td>\n",
       "      <td>Qatar Open</td>\n",
       "      <td>2000-01-03</td>\n",
       "      <td>International</td>\n",
       "      <td>Outdoor</td>\n",
       "      <td>Hard</td>\n",
       "      <td>1st Round</td>\n",
       "      <td>3</td>\n",
       "      <td>El Aynaoui Y.</td>\n",
       "      <td>...</td>\n",
       "      <td>2.0</td>\n",
       "      <td>1.0</td>\n",
       "      <td>Completed</td>\n",
       "      <td>NaN</td>\n",
       "      <td>NaN</td>\n",
       "      <td>NaN</td>\n",
       "      <td>NaN</td>\n",
       "      <td>1500.0</td>\n",
       "      <td>1500.0</td>\n",
       "      <td>0.5</td>\n",
       "    </tr>\n",
       "    <tr>\n",
       "      <th>4</th>\n",
       "      <td>3</td>\n",
       "      <td>Doha</td>\n",
       "      <td>Qatar Open</td>\n",
       "      <td>2000-01-03</td>\n",
       "      <td>International</td>\n",
       "      <td>Outdoor</td>\n",
       "      <td>Hard</td>\n",
       "      <td>1st Round</td>\n",
       "      <td>3</td>\n",
       "      <td>Cherkasov A.</td>\n",
       "      <td>...</td>\n",
       "      <td>2.0</td>\n",
       "      <td>0.0</td>\n",
       "      <td>Completed</td>\n",
       "      <td>NaN</td>\n",
       "      <td>NaN</td>\n",
       "      <td>NaN</td>\n",
       "      <td>NaN</td>\n",
       "      <td>1500.0</td>\n",
       "      <td>1500.0</td>\n",
       "      <td>0.5</td>\n",
       "    </tr>\n",
       "  </tbody>\n",
       "</table>\n",
       "<p>5 rows × 23 columns</p>\n",
       "</div>"
      ],
      "text/plain": [
       "   atp  location                          tournament       date  \\\n",
       "0    1  Adelaide  Australian Hardcourt Championships 2000-01-03   \n",
       "1    3      Doha                          Qatar Open 2000-01-03   \n",
       "2    3      Doha                          Qatar Open 2000-01-03   \n",
       "3    3      Doha                          Qatar Open 2000-01-03   \n",
       "4    3      Doha                          Qatar Open 2000-01-03   \n",
       "\n",
       "          series    court surface      round  best_of         winner  ...  \\\n",
       "0  International  Outdoor    Hard  1st Round        3     Dosedel S.  ...   \n",
       "1  International  Outdoor    Hard  1st Round        3      Kiefer N.  ...   \n",
       "2  International  Outdoor    Hard  1st Round        3      Gaudio G.  ...   \n",
       "3  International  Outdoor    Hard  1st Round        3  El Aynaoui Y.  ...   \n",
       "4  International  Outdoor    Hard  1st Round        3   Cherkasov A.  ...   \n",
       "\n",
       "  wsets  lsets    comment  psw  psl b365w  b365l  elo_winner  elo_loser  \\\n",
       "0   2.0    0.0  Completed  NaN  NaN   NaN    NaN      1500.0     1500.0   \n",
       "1   2.0    0.0  Completed  NaN  NaN   NaN    NaN      1500.0     1500.0   \n",
       "2   2.0    1.0  Completed  NaN  NaN   NaN    NaN      1500.0     1500.0   \n",
       "3   2.0    1.0  Completed  NaN  NaN   NaN    NaN      1500.0     1500.0   \n",
       "4   2.0    0.0  Completed  NaN  NaN   NaN    NaN      1500.0     1500.0   \n",
       "\n",
       "   proba_elo  \n",
       "0        0.5  \n",
       "1        0.5  \n",
       "2        0.5  \n",
       "3        0.5  \n",
       "4        0.5  \n",
       "\n",
       "[5 rows x 23 columns]"
      ]
     },
     "execution_count": 4,
     "metadata": {},
     "output_type": "execute_result"
    }
   ],
   "source": [
    "#Head file\n",
    "df.head(5)"
   ]
  },
  {
   "cell_type": "code",
   "execution_count": 6,
   "metadata": {},
   "outputs": [
    {
     "data": {
      "text/plain": [
       "atp               0\n",
       "location          0\n",
       "tournament        0\n",
       "date              0\n",
       "series            0\n",
       "court             0\n",
       "surface           0\n",
       "round             0\n",
       "best_of           0\n",
       "winner            0\n",
       "loser             0\n",
       "wrank             0\n",
       "lrank             0\n",
       "wsets           187\n",
       "lsets           187\n",
       "comment           0\n",
       "psw           11965\n",
       "psl           11965\n",
       "b365w          5671\n",
       "b365l          5651\n",
       "elo_winner        0\n",
       "elo_loser         0\n",
       "proba_elo         0\n",
       "dtype: int64"
      ]
     },
     "execution_count": 6,
     "metadata": {},
     "output_type": "execute_result"
    }
   ],
   "source": [
    "#Count NA by column\n",
    "df.isna().sum()"
   ]
  },
  {
   "cell_type": "code",
   "execution_count": 4,
   "metadata": {},
   "outputs": [],
   "source": [
    "# Keep only completed match\n",
    "df1 = df[df.comment==\"Completed\"].dropna().copy()"
   ]
  },
  {
   "cell_type": "code",
   "execution_count": 6,
   "metadata": {},
   "outputs": [
    {
     "data": {
      "text/plain": [
       "Index(['atp', 'location', 'tournament', 'date', 'series', 'court', 'surface',\n",
       "       'round', 'best_of', 'winner', 'loser', 'wrank', 'lrank', 'wsets',\n",
       "       'lsets', 'comment', 'psw', 'psl', 'b365w', 'b365l', 'elo_winner',\n",
       "       'elo_loser', 'proba_elo'],\n",
       "      dtype='object')"
      ]
     },
     "execution_count": 6,
     "metadata": {},
     "output_type": "execute_result"
    }
   ],
   "source": [
    "df1.columns"
   ]
  },
  {
   "cell_type": "code",
   "execution_count": 7,
   "metadata": {},
   "outputs": [],
   "source": [
    "#Listes des colonnes pour joueur\n",
    "winner_col = ['winner','b365w','elo_winner','wrank']\n",
    "loser_col = ['loser','b365l','elo_loser','lrank']\n",
    "#Generate random 0,1\n",
    "data = list(np.random.choice([0, 1], len(df1)))\n",
    "\n",
    "\n",
    "#Join player informations in list\n",
    "df2 = df1.assign(winner_info = df1[winner_col].values.tolist()\n",
    "           ,loser_info =  df1[loser_col].values.tolist()\n",
    "           ,random = data\n",
    "           )\n",
    "\n",
    "#Randomize player information P1 or P2\n",
    "df3 = df2\\\n",
    "         .assign(p1 = np.where(df2['random'] == 0, df2['winner_info'], df2['loser_info'])\n",
    "                ,p2 =np.where(df2['random'] == 1, df2['winner_info'], df2['loser_info']) \n",
    "            ).loc[:,['p1','p2']]\n"
   ]
  },
  {
   "cell_type": "code",
   "execution_count": null,
   "metadata": {},
   "outputs": [],
   "source": []
  },
  {
   "cell_type": "code",
   "execution_count": 9,
   "metadata": {},
   "outputs": [],
   "source": [
    "#Create dataset with player's information\n",
    "add_random_player = df3.join(df3['p1'].apply(pd.Series))\\\n",
    "                        .rename(columns={0: 'p1_Name', 1: 'p1_b365', 2: 'p1_elo', 3: 'p1_rank'})\\\n",
    "                        .join(df3['p2'].apply(pd.Series))\\\n",
    "                        .rename(columns={0: 'p2_Name', 1: 'p2_b365', 2: 'p2_elo', 3: 'p2_rank'})\\\n",
    "                        .drop(['p1','p2'],axis=1)"
   ]
  },
  {
   "cell_type": "code",
   "execution_count": 10,
   "metadata": {},
   "outputs": [
    {
     "data": {
      "text/html": [
       "<div>\n",
       "<style scoped>\n",
       "    .dataframe tbody tr th:only-of-type {\n",
       "        vertical-align: middle;\n",
       "    }\n",
       "\n",
       "    .dataframe tbody tr th {\n",
       "        vertical-align: top;\n",
       "    }\n",
       "\n",
       "    .dataframe thead th {\n",
       "        text-align: right;\n",
       "    }\n",
       "</style>\n",
       "<table border=\"1\" class=\"dataframe\">\n",
       "  <thead>\n",
       "    <tr style=\"text-align: right;\">\n",
       "      <th></th>\n",
       "      <th>p1_Name</th>\n",
       "      <th>p1_b365</th>\n",
       "      <th>p1_elo</th>\n",
       "      <th>p1_rank</th>\n",
       "      <th>p2_Name</th>\n",
       "      <th>p2_b365</th>\n",
       "      <th>p2_elo</th>\n",
       "      <th>p2_rank</th>\n",
       "    </tr>\n",
       "  </thead>\n",
       "  <tbody>\n",
       "    <tr>\n",
       "      <th>8678</th>\n",
       "      <td>Ulihrach B.</td>\n",
       "      <td>2.200</td>\n",
       "      <td>1486.195239</td>\n",
       "      <td>246</td>\n",
       "      <td>Kiefer N.</td>\n",
       "      <td>1.615</td>\n",
       "      <td>1618.182210</td>\n",
       "      <td>58</td>\n",
       "    </tr>\n",
       "    <tr>\n",
       "      <th>8679</th>\n",
       "      <td>Schuettler R.</td>\n",
       "      <td>1.364</td>\n",
       "      <td>1820.759485</td>\n",
       "      <td>6</td>\n",
       "      <td>Youzhny M.</td>\n",
       "      <td>2.875</td>\n",
       "      <td>1615.057648</td>\n",
       "      <td>43</td>\n",
       "    </tr>\n",
       "  </tbody>\n",
       "</table>\n",
       "</div>"
      ],
      "text/plain": [
       "            p1_Name  p1_b365       p1_elo  p1_rank     p2_Name  p2_b365  \\\n",
       "8678    Ulihrach B.    2.200  1486.195239      246   Kiefer N.    1.615   \n",
       "8679  Schuettler R.    1.364  1820.759485        6  Youzhny M.    2.875   \n",
       "\n",
       "           p2_elo  p2_rank  \n",
       "8678  1618.182210       58  \n",
       "8679  1615.057648       43  "
      ]
     },
     "execution_count": 10,
     "metadata": {},
     "output_type": "execute_result"
    }
   ],
   "source": [
    "add_random_player.head(2)"
   ]
  },
  {
   "cell_type": "code",
   "execution_count": 12,
   "metadata": {},
   "outputs": [],
   "source": [
    "#Final data set \n",
    "\n",
    "\n",
    "#Data set with player's information and match's information\n",
    "df_feng = df1[keeping_col+[target]].join(add_random_player)"
   ]
  },
  {
   "cell_type": "code",
   "execution_count": 13,
   "metadata": {},
   "outputs": [
    {
     "data": {
      "text/html": [
       "<div>\n",
       "<style scoped>\n",
       "    .dataframe tbody tr th:only-of-type {\n",
       "        vertical-align: middle;\n",
       "    }\n",
       "\n",
       "    .dataframe tbody tr th {\n",
       "        vertical-align: top;\n",
       "    }\n",
       "\n",
       "    .dataframe thead th {\n",
       "        text-align: right;\n",
       "    }\n",
       "</style>\n",
       "<table border=\"1\" class=\"dataframe\">\n",
       "  <thead>\n",
       "    <tr style=\"text-align: right;\">\n",
       "      <th></th>\n",
       "      <th>location</th>\n",
       "      <th>tournament</th>\n",
       "      <th>date</th>\n",
       "      <th>series</th>\n",
       "      <th>surface</th>\n",
       "      <th>round</th>\n",
       "      <th>best_of</th>\n",
       "      <th>proba_elo</th>\n",
       "      <th>winner</th>\n",
       "      <th>p1_Name</th>\n",
       "      <th>p1_b365</th>\n",
       "      <th>p1_elo</th>\n",
       "      <th>p1_rank</th>\n",
       "      <th>p2_Name</th>\n",
       "      <th>p2_b365</th>\n",
       "      <th>p2_elo</th>\n",
       "      <th>p2_rank</th>\n",
       "    </tr>\n",
       "  </thead>\n",
       "  <tbody>\n",
       "    <tr>\n",
       "      <th>8678</th>\n",
       "      <td>Doha</td>\n",
       "      <td>Qatar Exxon Mobil Open</td>\n",
       "      <td>2004-01-05</td>\n",
       "      <td>International</td>\n",
       "      <td>Hard</td>\n",
       "      <td>1st Round</td>\n",
       "      <td>3</td>\n",
       "      <td>0.318694</td>\n",
       "      <td>Ulihrach B.</td>\n",
       "      <td>Ulihrach B.</td>\n",
       "      <td>2.200</td>\n",
       "      <td>1486.195239</td>\n",
       "      <td>246</td>\n",
       "      <td>Kiefer N.</td>\n",
       "      <td>1.615</td>\n",
       "      <td>1618.182210</td>\n",
       "      <td>58</td>\n",
       "    </tr>\n",
       "    <tr>\n",
       "      <th>8679</th>\n",
       "      <td>Doha</td>\n",
       "      <td>Qatar Exxon Mobil Open</td>\n",
       "      <td>2004-01-05</td>\n",
       "      <td>International</td>\n",
       "      <td>Hard</td>\n",
       "      <td>1st Round</td>\n",
       "      <td>3</td>\n",
       "      <td>0.234313</td>\n",
       "      <td>Youzhny M.</td>\n",
       "      <td>Schuettler R.</td>\n",
       "      <td>1.364</td>\n",
       "      <td>1820.759485</td>\n",
       "      <td>6</td>\n",
       "      <td>Youzhny M.</td>\n",
       "      <td>2.875</td>\n",
       "      <td>1615.057648</td>\n",
       "      <td>43</td>\n",
       "    </tr>\n",
       "  </tbody>\n",
       "</table>\n",
       "</div>"
      ],
      "text/plain": [
       "     location              tournament       date         series surface  \\\n",
       "8678     Doha  Qatar Exxon Mobil Open 2004-01-05  International    Hard   \n",
       "8679     Doha  Qatar Exxon Mobil Open 2004-01-05  International    Hard   \n",
       "\n",
       "          round  best_of  proba_elo       winner        p1_Name  p1_b365  \\\n",
       "8678  1st Round        3   0.318694  Ulihrach B.    Ulihrach B.    2.200   \n",
       "8679  1st Round        3   0.234313   Youzhny M.  Schuettler R.    1.364   \n",
       "\n",
       "           p1_elo  p1_rank     p2_Name  p2_b365       p2_elo  p2_rank  \n",
       "8678  1486.195239      246   Kiefer N.    1.615  1618.182210       58  \n",
       "8679  1820.759485        6  Youzhny M.    2.875  1615.057648       43  "
      ]
     },
     "execution_count": 13,
     "metadata": {},
     "output_type": "execute_result"
    }
   ],
   "source": [
    "df_feng.head(2)"
   ]
  },
  {
   "cell_type": "code",
   "execution_count": 14,
   "metadata": {},
   "outputs": [
    {
     "name": "stdout",
     "output_type": "stream",
     "text": [
      "<class 'pandas.core.frame.DataFrame'>\n",
      "Index: 31112 entries, 8678 to 44707\n",
      "Data columns (total 17 columns):\n",
      " #   Column      Non-Null Count  Dtype         \n",
      "---  ------      --------------  -----         \n",
      " 0   location    31112 non-null  object        \n",
      " 1   tournament  31112 non-null  object        \n",
      " 2   date        31112 non-null  datetime64[ns]\n",
      " 3   series      31112 non-null  object        \n",
      " 4   surface     31112 non-null  object        \n",
      " 5   round       31112 non-null  object        \n",
      " 6   best_of     31112 non-null  int64         \n",
      " 7   proba_elo   31112 non-null  float64       \n",
      " 8   winner      31112 non-null  object        \n",
      " 9   p1_Name     31112 non-null  object        \n",
      " 10  p1_b365     31112 non-null  float64       \n",
      " 11  p1_elo      31112 non-null  float64       \n",
      " 12  p1_rank     31112 non-null  int64         \n",
      " 13  p2_Name     31112 non-null  object        \n",
      " 14  p2_b365     31112 non-null  float64       \n",
      " 15  p2_elo      31112 non-null  float64       \n",
      " 16  p2_rank     31112 non-null  int64         \n",
      "dtypes: datetime64[ns](1), float64(5), int64(3), object(8)\n",
      "memory usage: 5.3+ MB\n"
     ]
    }
   ],
   "source": [
    "df_feng.info()"
   ]
  },
  {
   "cell_type": "code",
   "execution_count": null,
   "metadata": {},
   "outputs": [],
   "source": []
  },
  {
   "cell_type": "code",
   "execution_count": 18,
   "metadata": {},
   "outputs": [
    {
     "name": "stderr",
     "output_type": "stream",
     "text": [
      "/tmp/ipykernel_2384/1160131646.py:23: UserWarning: Tight layout not applied. tight_layout cannot make axes height small enough to accommodate all axes decorations.\n",
      "  plt.tight_layout()\n"
     ]
    },
    {
     "data": {
      "image/png": "[encoded data removed]",
      "text/plain": [
       "<Figure size 1500x1000 with 18 Axes>"
      ]
     },
     "metadata": {},
     "output_type": "display_data"
    }
   ],
   "source": [
    "# Exemple d'utilisation en affichant 2 graphiques par ligne, avec un maximum de 10 modalités affichées et un seuil de 1% pour les filtres\n",
    "plot_histograms_for_dataframe(df_feng)"
   ]
  },
  {
   "cell_type": "code",
   "execution_count": 122,
   "metadata": {},
   "outputs": [
    {
     "data": {
      "text/html": [
       "<div>\n",
       "<style scoped>\n",
       "    .dataframe tbody tr th:only-of-type {\n",
       "        vertical-align: middle;\n",
       "    }\n",
       "\n",
       "    .dataframe tbody tr th {\n",
       "        vertical-align: top;\n",
       "    }\n",
       "\n",
       "    .dataframe thead th {\n",
       "        text-align: right;\n",
       "    }\n",
       "</style>\n",
       "<table border=\"1\" class=\"dataframe\">\n",
       "  <thead>\n",
       "    <tr style=\"text-align: right;\">\n",
       "      <th></th>\n",
       "      <th>location</th>\n",
       "      <th>tournament</th>\n",
       "      <th>date</th>\n",
       "      <th>series</th>\n",
       "      <th>surface</th>\n",
       "      <th>round</th>\n",
       "      <th>best_of</th>\n",
       "      <th>proba_elo</th>\n",
       "      <th>p1_Name</th>\n",
       "      <th>p1_b365</th>\n",
       "      <th>p1_elo</th>\n",
       "      <th>p1_rank</th>\n",
       "      <th>p2_Name</th>\n",
       "      <th>p2_b365</th>\n",
       "      <th>p2_elo</th>\n",
       "      <th>p2_rank</th>\n",
       "    </tr>\n",
       "  </thead>\n",
       "  <tbody>\n",
       "    <tr>\n",
       "      <th>count</th>\n",
       "      <td>31112</td>\n",
       "      <td>31112</td>\n",
       "      <td>31112</td>\n",
       "      <td>31112</td>\n",
       "      <td>31112</td>\n",
       "      <td>31112</td>\n",
       "      <td>31112.000000</td>\n",
       "      <td>31112.000000</td>\n",
       "      <td>31112</td>\n",
       "      <td>31112.000000</td>\n",
       "      <td>31112.000000</td>\n",
       "      <td>31112.000000</td>\n",
       "      <td>31112</td>\n",
       "      <td>31112.000000</td>\n",
       "      <td>31112.000000</td>\n",
       "      <td>31112.000000</td>\n",
       "    </tr>\n",
       "    <tr>\n",
       "      <th>unique</th>\n",
       "      <td>101</td>\n",
       "      <td>170</td>\n",
       "      <td>NaN</td>\n",
       "      <td>8</td>\n",
       "      <td>4</td>\n",
       "      <td>8</td>\n",
       "      <td>NaN</td>\n",
       "      <td>NaN</td>\n",
       "      <td>858</td>\n",
       "      <td>NaN</td>\n",
       "      <td>NaN</td>\n",
       "      <td>NaN</td>\n",
       "      <td>869</td>\n",
       "      <td>NaN</td>\n",
       "      <td>NaN</td>\n",
       "      <td>NaN</td>\n",
       "    </tr>\n",
       "    <tr>\n",
       "      <th>top</th>\n",
       "      <td>Paris</td>\n",
       "      <td>Australian Open</td>\n",
       "      <td>NaN</td>\n",
       "      <td>ATP250</td>\n",
       "      <td>Hard</td>\n",
       "      <td>1st Round</td>\n",
       "      <td>NaN</td>\n",
       "      <td>NaN</td>\n",
       "      <td>Nadal R.</td>\n",
       "      <td>NaN</td>\n",
       "      <td>NaN</td>\n",
       "      <td>NaN</td>\n",
       "      <td>Federer R.</td>\n",
       "      <td>NaN</td>\n",
       "      <td>NaN</td>\n",
       "      <td>NaN</td>\n",
       "    </tr>\n",
       "    <tr>\n",
       "      <th>freq</th>\n",
       "      <td>1967</td>\n",
       "      <td>1568</td>\n",
       "      <td>NaN</td>\n",
       "      <td>7923</td>\n",
       "      <td>16779</td>\n",
       "      <td>13962</td>\n",
       "      <td>NaN</td>\n",
       "      <td>NaN</td>\n",
       "      <td>403</td>\n",
       "      <td>NaN</td>\n",
       "      <td>NaN</td>\n",
       "      <td>NaN</td>\n",
       "      <td>440</td>\n",
       "      <td>NaN</td>\n",
       "      <td>NaN</td>\n",
       "      <td>NaN</td>\n",
       "    </tr>\n",
       "    <tr>\n",
       "      <th>mean</th>\n",
       "      <td>NaN</td>\n",
       "      <td>NaN</td>\n",
       "      <td>2010-11-05 07:54:36.009256704</td>\n",
       "      <td>NaN</td>\n",
       "      <td>NaN</td>\n",
       "      <td>NaN</td>\n",
       "      <td>3.380496</td>\n",
       "      <td>0.597294</td>\n",
       "      <td>NaN</td>\n",
       "      <td>2.728492</td>\n",
       "      <td>1667.607211</td>\n",
       "      <td>73.683659</td>\n",
       "      <td>NaN</td>\n",
       "      <td>2.711775</td>\n",
       "      <td>1669.025276</td>\n",
       "      <td>73.788731</td>\n",
       "    </tr>\n",
       "    <tr>\n",
       "      <th>min</th>\n",
       "      <td>NaN</td>\n",
       "      <td>NaN</td>\n",
       "      <td>2004-01-05 00:00:00</td>\n",
       "      <td>NaN</td>\n",
       "      <td>NaN</td>\n",
       "      <td>NaN</td>\n",
       "      <td>3.000000</td>\n",
       "      <td>0.008899</td>\n",
       "      <td>NaN</td>\n",
       "      <td>1.000000</td>\n",
       "      <td>1323.901480</td>\n",
       "      <td>0.000000</td>\n",
       "      <td>NaN</td>\n",
       "      <td>1.000000</td>\n",
       "      <td>1328.561147</td>\n",
       "      <td>0.000000</td>\n",
       "    </tr>\n",
       "    <tr>\n",
       "      <th>25%</th>\n",
       "      <td>NaN</td>\n",
       "      <td>NaN</td>\n",
       "      <td>2007-01-02 00:00:00</td>\n",
       "      <td>NaN</td>\n",
       "      <td>NaN</td>\n",
       "      <td>NaN</td>\n",
       "      <td>3.000000</td>\n",
       "      <td>0.448961</td>\n",
       "      <td>NaN</td>\n",
       "      <td>1.360000</td>\n",
       "      <td>1539.080359</td>\n",
       "      <td>24.000000</td>\n",
       "      <td>NaN</td>\n",
       "      <td>1.360000</td>\n",
       "      <td>1540.151372</td>\n",
       "      <td>23.000000</td>\n",
       "    </tr>\n",
       "    <tr>\n",
       "      <th>50%</th>\n",
       "      <td>NaN</td>\n",
       "      <td>NaN</td>\n",
       "      <td>2011-01-11 00:00:00</td>\n",
       "      <td>NaN</td>\n",
       "      <td>NaN</td>\n",
       "      <td>NaN</td>\n",
       "      <td>3.000000</td>\n",
       "      <td>0.609537</td>\n",
       "      <td>NaN</td>\n",
       "      <td>1.830000</td>\n",
       "      <td>1639.854496</td>\n",
       "      <td>52.000000</td>\n",
       "      <td>NaN</td>\n",
       "      <td>1.830000</td>\n",
       "      <td>1640.927857</td>\n",
       "      <td>52.000000</td>\n",
       "    </tr>\n",
       "    <tr>\n",
       "      <th>75%</th>\n",
       "      <td>NaN</td>\n",
       "      <td>NaN</td>\n",
       "      <td>2015-02-10 00:00:00</td>\n",
       "      <td>NaN</td>\n",
       "      <td>NaN</td>\n",
       "      <td>NaN</td>\n",
       "      <td>3.000000</td>\n",
       "      <td>0.759482</td>\n",
       "      <td>NaN</td>\n",
       "      <td>3.000000</td>\n",
       "      <td>1759.121301</td>\n",
       "      <td>90.000000</td>\n",
       "      <td>NaN</td>\n",
       "      <td>3.000000</td>\n",
       "      <td>1760.135827</td>\n",
       "      <td>90.000000</td>\n",
       "    </tr>\n",
       "    <tr>\n",
       "      <th>max</th>\n",
       "      <td>NaN</td>\n",
       "      <td>NaN</td>\n",
       "      <td>2018-03-04 00:00:00</td>\n",
       "      <td>NaN</td>\n",
       "      <td>NaN</td>\n",
       "      <td>NaN</td>\n",
       "      <td>5.000000</td>\n",
       "      <td>0.995601</td>\n",
       "      <td>NaN</td>\n",
       "      <td>67.000000</td>\n",
       "      <td>2392.408923</td>\n",
       "      <td>1890.000000</td>\n",
       "      <td>NaN</td>\n",
       "      <td>101.000000</td>\n",
       "      <td>2391.823351</td>\n",
       "      <td>1890.000000</td>\n",
       "    </tr>\n",
       "    <tr>\n",
       "      <th>std</th>\n",
       "      <td>NaN</td>\n",
       "      <td>NaN</td>\n",
       "      <td>NaN</td>\n",
       "      <td>NaN</td>\n",
       "      <td>NaN</td>\n",
       "      <td>NaN</td>\n",
       "      <td>0.785006</td>\n",
       "      <td>0.207120</td>\n",
       "      <td>NaN</td>\n",
       "      <td>2.808955</td>\n",
       "      <td>169.494655</td>\n",
       "      <td>96.870801</td>\n",
       "      <td>NaN</td>\n",
       "      <td>2.823051</td>\n",
       "      <td>170.627115</td>\n",
       "      <td>96.596302</td>\n",
       "    </tr>\n",
       "  </tbody>\n",
       "</table>\n",
       "</div>"
      ],
      "text/plain": [
       "       location       tournament                           date  series  \\\n",
       "count     31112            31112                          31112   31112   \n",
       "unique      101              170                            NaN       8   \n",
       "top       Paris  Australian Open                            NaN  ATP250   \n",
       "freq       1967             1568                            NaN    7923   \n",
       "mean        NaN              NaN  2010-11-05 07:54:36.009256704     NaN   \n",
       "min         NaN              NaN            2004-01-05 00:00:00     NaN   \n",
       "25%         NaN              NaN            2007-01-02 00:00:00     NaN   \n",
       "50%         NaN              NaN            2011-01-11 00:00:00     NaN   \n",
       "75%         NaN              NaN            2015-02-10 00:00:00     NaN   \n",
       "max         NaN              NaN            2018-03-04 00:00:00     NaN   \n",
       "std         NaN              NaN                            NaN     NaN   \n",
       "\n",
       "       surface      round       best_of     proba_elo   p1_Name       p1_b365  \\\n",
       "count    31112      31112  31112.000000  31112.000000     31112  31112.000000   \n",
       "unique       4          8           NaN           NaN       858           NaN   \n",
       "top       Hard  1st Round           NaN           NaN  Nadal R.           NaN   \n",
       "freq     16779      13962           NaN           NaN       403           NaN   \n",
       "mean       NaN        NaN      3.380496      0.597294       NaN      2.728492   \n",
       "min        NaN        NaN      3.000000      0.008899       NaN      1.000000   \n",
       "25%        NaN        NaN      3.000000      0.448961       NaN      1.360000   \n",
       "50%        NaN        NaN      3.000000      0.609537       NaN      1.830000   \n",
       "75%        NaN        NaN      3.000000      0.759482       NaN      3.000000   \n",
       "max        NaN        NaN      5.000000      0.995601       NaN     67.000000   \n",
       "std        NaN        NaN      0.785006      0.207120       NaN      2.808955   \n",
       "\n",
       "              p1_elo       p1_rank     p2_Name       p2_b365        p2_elo  \\\n",
       "count   31112.000000  31112.000000       31112  31112.000000  31112.000000   \n",
       "unique           NaN           NaN         869           NaN           NaN   \n",
       "top              NaN           NaN  Federer R.           NaN           NaN   \n",
       "freq             NaN           NaN         440           NaN           NaN   \n",
       "mean     1667.607211     73.683659         NaN      2.711775   1669.025276   \n",
       "min      1323.901480      0.000000         NaN      1.000000   1328.561147   \n",
       "25%      1539.080359     24.000000         NaN      1.360000   1540.151372   \n",
       "50%      1639.854496     52.000000         NaN      1.830000   1640.927857   \n",
       "75%      1759.121301     90.000000         NaN      3.000000   1760.135827   \n",
       "max      2392.408923   1890.000000         NaN    101.000000   2391.823351   \n",
       "std       169.494655     96.870801         NaN      2.823051    170.627115   \n",
       "\n",
       "             p2_rank  \n",
       "count   31112.000000  \n",
       "unique           NaN  \n",
       "top              NaN  \n",
       "freq             NaN  \n",
       "mean       73.788731  \n",
       "min         0.000000  \n",
       "25%        23.000000  \n",
       "50%        52.000000  \n",
       "75%        90.000000  \n",
       "max      1890.000000  \n",
       "std        96.596302  "
      ]
     },
     "execution_count": 122,
     "metadata": {},
     "output_type": "execute_result"
    }
   ],
   "source": [
    "df_feng.describe(include = 'all')"
   ]
  },
  {
   "cell_type": "markdown",
   "metadata": {},
   "source": [
    "## Feature engineering"
   ]
  },
  {
   "cell_type": "code",
   "execution_count": 22,
   "metadata": {},
   "outputs": [],
   "source": [
    "df_feng['year'] = df_feng.date.dt.year\n",
    "df_feng['month'] = df_feng.date.dt.month\n",
    "df_feng['day'] = df_feng.date.dt.day\n"
   ]
  },
  {
   "cell_type": "code",
   "execution_count": 24,
   "metadata": {},
   "outputs": [
    {
     "data": {
      "text/html": [
       "<div>\n",
       "<style scoped>\n",
       "    .dataframe tbody tr th:only-of-type {\n",
       "        vertical-align: middle;\n",
       "    }\n",
       "\n",
       "    .dataframe tbody tr th {\n",
       "        vertical-align: top;\n",
       "    }\n",
       "\n",
       "    .dataframe thead th {\n",
       "        text-align: right;\n",
       "    }\n",
       "</style>\n",
       "<table border=\"1\" class=\"dataframe\">\n",
       "  <thead>\n",
       "    <tr style=\"text-align: right;\">\n",
       "      <th></th>\n",
       "      <th>location</th>\n",
       "      <th>tournament</th>\n",
       "      <th>series</th>\n",
       "      <th>surface</th>\n",
       "      <th>round</th>\n",
       "      <th>winner</th>\n",
       "      <th>p1_Name</th>\n",
       "      <th>p2_Name</th>\n",
       "    </tr>\n",
       "  </thead>\n",
       "  <tbody>\n",
       "    <tr>\n",
       "      <th>8678</th>\n",
       "      <td>Doha</td>\n",
       "      <td>Qatar Exxon Mobil Open</td>\n",
       "      <td>International</td>\n",
       "      <td>Hard</td>\n",
       "      <td>1st Round</td>\n",
       "      <td>Ulihrach B.</td>\n",
       "      <td>Ulihrach B.</td>\n",
       "      <td>Kiefer N.</td>\n",
       "    </tr>\n",
       "    <tr>\n",
       "      <th>8679</th>\n",
       "      <td>Doha</td>\n",
       "      <td>Qatar Exxon Mobil Open</td>\n",
       "      <td>International</td>\n",
       "      <td>Hard</td>\n",
       "      <td>1st Round</td>\n",
       "      <td>Youzhny M.</td>\n",
       "      <td>Schuettler R.</td>\n",
       "      <td>Youzhny M.</td>\n",
       "    </tr>\n",
       "  </tbody>\n",
       "</table>\n",
       "</div>"
      ],
      "text/plain": [
       "     location              tournament         series surface      round  \\\n",
       "8678     Doha  Qatar Exxon Mobil Open  International    Hard  1st Round   \n",
       "8679     Doha  Qatar Exxon Mobil Open  International    Hard  1st Round   \n",
       "\n",
       "           winner        p1_Name     p2_Name  \n",
       "8678  Ulihrach B.    Ulihrach B.   Kiefer N.  \n",
       "8679   Youzhny M.  Schuettler R.  Youzhny M.  "
      ]
     },
     "execution_count": 24,
     "metadata": {},
     "output_type": "execute_result"
    }
   ],
   "source": [
    "df_feng.select_dtypes('object').head(2)\n",
    "# Location Frequence encoding\n",
    "# tournamen Frequence encoding\n",
    "# Series one hot\n",
    "# Surface one hot\n",
    "# round one hot\n",
    "# name?? \n"
   ]
  },
  {
   "cell_type": "markdown",
   "metadata": {},
   "source": [
    "Pour encoder les variables catégorielles, on utilise les méthodes suivantes :\n",
    "\n",
    "- Frequence encoding\n",
    "\n",
    "On remplace la modalité par son occurence en %\n",
    "\n",
    "- One hot encoding (dummies)"
   ]
  },
  {
   "cell_type": "code",
   "execution_count": 27,
   "metadata": {},
   "outputs": [
    {
     "name": "stdout",
     "output_type": "stream",
     "text": [
      "location\n",
      "tournament\n"
     ]
    }
   ],
   "source": [
    "for i in ['location','tournament']:\n",
    "    print(i)\n",
    "    frequency_encoding(df_feng, i)"
   ]
  },
  {
   "cell_type": "code",
   "execution_count": 66,
   "metadata": {},
   "outputs": [
    {
     "data": {
      "text/plain": [
       "Index(['best_of', 'proba_elo', 'p1_b365', 'p1_elo', 'p1_rank', 'p2_b365',\n",
       "       'p2_elo', 'p2_rank', 'year', 'month', 'day', 'location_encoded',\n",
       "       'tournament_encoded'],\n",
       "      dtype='object')"
      ]
     },
     "execution_count": 66,
     "metadata": {},
     "output_type": "execute_result"
    }
   ],
   "source": []
  },
  {
   "cell_type": "markdown",
   "metadata": {},
   "source": [
    "NOTE: Il faudrait regarder si les variables numériques comportent des valeurs extremes avant de scaler"
   ]
  },
  {
   "cell_type": "code",
   "execution_count": 63,
   "metadata": {},
   "outputs": [],
   "source": [
    "# Sélectionner les colonnes catégorielles\n",
    "categorical_columns = ['series', 'surface',\t'round']\n",
    "numerical_columns = df_feng.select_dtypes(include='number').columns\n",
    "\n",
    "# Créer un ColumnTransformer avec OneHotEncoder pour chaque colonne catégorielle\n",
    "preprocessor = ColumnTransformer(\n",
    "    transformers=[\n",
    "        ('cat', OneHotEncoder(), categorical_columns),\n",
    "        ('num',StandardScaler(),numerical_columns) \n",
    "    ],\n",
    "     remainder='passthrough'\n",
    ")\n",
    "\n",
    "# Appliquer la transformation\n",
    "encoded_data = preprocessor.fit_transform(df_feng)\n",
    "\n"
   ]
  },
  {
   "cell_type": "code",
   "execution_count": 64,
   "metadata": {},
   "outputs": [
    {
     "data": {
      "text/plain": [
       "array([[0.0, 0.0, 0.0, ..., 'Ulihrach B.', 'Ulihrach B.', 'Kiefer N.'],\n",
       "       [0.0, 0.0, 0.0, ..., 'Youzhny M.', 'Schuettler R.', 'Youzhny M.'],\n",
       "       [0.0, 0.0, 0.0, ..., 'Sargsian S.', 'Carraz G.', 'Sargsian S.'],\n",
       "       ...,\n",
       "       [1.0, 0.0, 0.0, ..., 'Jarry N.', 'Jarry N.', 'Zeballos H.'],\n",
       "       [0.0, 1.0, 0.0, ..., 'Del Potro J.M.', 'Del Potro J.M.',\n",
       "        'Anderson K.'],\n",
       "       [1.0, 0.0, 0.0, ..., 'Fognini F.', 'Fognini F.', 'Jarry N.']],\n",
       "      dtype=object)"
      ]
     },
     "execution_count": 64,
     "metadata": {},
     "output_type": "execute_result"
    }
   ],
   "source": [
    "encoded_data\n"
   ]
  },
  {
   "cell_type": "code",
   "execution_count": 68,
   "metadata": {},
   "outputs": [],
   "source": [
    "df_feng_cat = pd.DataFrame(encoded_data, columns=preprocessor.get_feature_names_out())\n"
   ]
  },
  {
   "cell_type": "code",
   "execution_count": 70,
   "metadata": {},
   "outputs": [],
   "source": [
    "final = df_feng_cat\\\n",
    "    .assign(p1_won = np.where(df_feng_cat['remainder__p1_Name']==df_feng_cat['remainder__winner'],1,0))\\\n",
    "    .drop(['remainder__p2_Name','remainder__p1_Name','remainder__winner','remainder__location','remainder__tournament','remainder__date'], axis = 1)"
   ]
  },
  {
   "cell_type": "code",
   "execution_count": 71,
   "metadata": {},
   "outputs": [
    {
     "data": {
      "text/plain": [
       "Index(['cat__series_ATP250', 'cat__series_ATP500', 'cat__series_Grand Slam',\n",
       "       'cat__series_International', 'cat__series_International Gold',\n",
       "       'cat__series_Masters', 'cat__series_Masters 1000',\n",
       "       'cat__series_Masters Cup', 'cat__surface_Carpet', 'cat__surface_Clay',\n",
       "       'cat__surface_Grass', 'cat__surface_Hard', 'cat__round_1st Round',\n",
       "       'cat__round_2nd Round', 'cat__round_3rd Round', 'cat__round_4th Round',\n",
       "       'cat__round_Quarterfinals', 'cat__round_Round Robin',\n",
       "       'cat__round_Semifinals', 'cat__round_The Final', 'num__best_of',\n",
       "       'num__proba_elo', 'num__p1_b365', 'num__p1_elo', 'num__p1_rank',\n",
       "       'num__p2_b365', 'num__p2_elo', 'num__p2_rank', 'num__year',\n",
       "       'num__month', 'num__day', 'num__location_encoded',\n",
       "       'num__tournament_encoded', 'p1_won'],\n",
       "      dtype='object')"
      ]
     },
     "execution_count": 71,
     "metadata": {},
     "output_type": "execute_result"
    }
   ],
   "source": [
    "final.columns"
   ]
  },
  {
   "cell_type": "code",
   "execution_count": 72,
   "metadata": {},
   "outputs": [],
   "source": [
    "# Séparer les données en caractéristiques (X) et la variable cible (y)\n",
    "X = final.drop(columns=['p1_won'])\n",
    "y = final['p1_won']\n",
    "\n",
    "\n"
   ]
  },
  {
   "cell_type": "code",
   "execution_count": 73,
   "metadata": {},
   "outputs": [],
   "source": [
    "# Diviser les données en un ensemble d'entraînement et un ensemble de test\n",
    "X_train, X_test, y_train, y_test = train_test_split(X, y, test_size=0.2, random_state=42)\n"
   ]
  },
  {
   "cell_type": "code",
   "execution_count": 74,
   "metadata": {},
   "outputs": [
    {
     "name": "stdout",
     "output_type": "stream",
     "text": [
      "Précision du modèle : 0.7093041941185924\n",
      "Rapport de classification :\n",
      "              precision    recall  f1-score   support\n",
      "\n",
      "           0       0.71      0.72      0.72      3172\n",
      "           1       0.71      0.70      0.70      3051\n",
      "\n",
      "    accuracy                           0.71      6223\n",
      "   macro avg       0.71      0.71      0.71      6223\n",
      "weighted avg       0.71      0.71      0.71      6223\n",
      "\n"
     ]
    }
   ],
   "source": [
    "# Créer un modèle de régression logistique\n",
    "model = LogisticRegression(random_state=42)\n",
    "\n",
    "# Entraîner le modèle sur l'ensemble d'entraînement\n",
    "model.fit(X_train, y_train)\n",
    "# Faire des prédictions sur l'ensemble de test\n",
    "y_pred = model.predict(X_test)\n",
    "\n",
    "# Évaluer les performances du modèle\n",
    "accuracy = accuracy_score(y_test, y_pred)\n",
    "classification_rep = classification_report(y_test, y_pred)\n",
    "\n",
    "print(f\"Précision du modèle : {accuracy}\")\n",
    "print(\"Rapport de classification :\")\n",
    "print(classification_rep)"
   ]
  },
  {
   "cell_type": "code",
   "execution_count": 75,
   "metadata": {},
   "outputs": [
    {
     "name": "stderr",
     "output_type": "stream",
     "text": [
      "/home/ubuntu/bet_tennis/env/lib/python3.8/site-packages/sklearn/base.py:465: UserWarning: X does not have valid feature names, but LogisticRegression was fitted with feature names\n",
      "  warnings.warn(\n"
     ]
    },
    {
     "data": {
      "text/plain": [
       "array([0])"
      ]
     },
     "execution_count": 75,
     "metadata": {},
     "output_type": "execute_result"
    }
   ],
   "source": [
    "model.predict([X_test.iloc[0]])"
   ]
  },
  {
   "cell_type": "code",
   "execution_count": 76,
   "metadata": {},
   "outputs": [
    {
     "name": "stderr",
     "output_type": "stream",
     "text": [
      "/home/ubuntu/bet_tennis/env/lib/python3.8/site-packages/sklearn/base.py:465: UserWarning: X does not have valid feature names, but LogisticRegression was fitted with feature names\n",
      "  warnings.warn(\n"
     ]
    }
   ],
   "source": [
    "sample_data = X_test.iloc[0]\n",
    "\n",
    "predicted_class = model.predict([sample_data])\n",
    "\n",
    "# Récupérer l'index de la ligne prédite dans X_test\n",
    "sample_index = sample_data.index[0]\n"
   ]
  },
  {
   "cell_type": "code",
   "execution_count": 77,
   "metadata": {},
   "outputs": [
    {
     "name": "stdout",
     "output_type": "stream",
     "text": [
      "Scores de validation croisée: [0.70409803 0.71675372 0.69164323 0.70108477 0.71026723]\n",
      "Score moyen de validation croisée: 0.7047693960317096\n"
     ]
    }
   ],
   "source": [
    "from sklearn.model_selection import cross_val_score\n",
    "\n",
    "scores = cross_val_score(model, X_train, y_train, cv=5)  # cv spécifie le nombre de plis\n",
    "\n",
    "# Affichez les résultats\n",
    "print(\"Scores de validation croisée:\", scores)\n",
    "print(\"Score moyen de validation croisée:\", scores.mean())"
   ]
  },
  {
   "cell_type": "markdown",
   "metadata": {},
   "source": [
    "Il ne semble pas y avoir de sur-apprentissage, Le modèle produit des scores quasi constant sur lesk-fold"
   ]
  },
  {
   "cell_type": "code",
   "execution_count": 52,
   "metadata": {},
   "outputs": [
    {
     "name": "stderr",
     "output_type": "stream",
     "text": [
      "/home/ubuntu/bet_tennis/env/lib/python3.8/site-packages/sklearn/linear_model/_logistic.py:460: ConvergenceWarning: lbfgs failed to converge (status=1):\n",
      "STOP: TOTAL NO. of ITERATIONS REACHED LIMIT.\n",
      "\n",
      "Increase the number of iterations (max_iter) or scale the data as shown in:\n",
      "    https://scikit-learn.org/stable/modules/preprocessing.html\n",
      "Please also refer to the documentation for alternative solver options:\n",
      "    https://scikit-learn.org/stable/modules/linear_model.html#logistic-regression\n",
      "  n_iter_i = _check_optimize_result(\n",
      "/home/ubuntu/bet_tennis/env/lib/python3.8/site-packages/sklearn/linear_model/_logistic.py:460: ConvergenceWarning: lbfgs failed to converge (status=1):\n",
      "STOP: TOTAL NO. of ITERATIONS REACHED LIMIT.\n",
      "\n",
      "Increase the number of iterations (max_iter) or scale the data as shown in:\n",
      "    https://scikit-learn.org/stable/modules/preprocessing.html\n",
      "Please also refer to the documentation for alternative solver options:\n",
      "    https://scikit-learn.org/stable/modules/linear_model.html#logistic-regression\n",
      "  n_iter_i = _check_optimize_result(\n",
      "/home/ubuntu/bet_tennis/env/lib/python3.8/site-packages/sklearn/linear_model/_logistic.py:460: ConvergenceWarning: lbfgs failed to converge (status=1):\n",
      "STOP: TOTAL NO. of ITERATIONS REACHED LIMIT.\n",
      "\n",
      "Increase the number of iterations (max_iter) or scale the data as shown in:\n",
      "    https://scikit-learn.org/stable/modules/preprocessing.html\n",
      "Please also refer to the documentation for alternative solver options:\n",
      "    https://scikit-learn.org/stable/modules/linear_model.html#logistic-regression\n",
      "  n_iter_i = _check_optimize_result(\n",
      "/home/ubuntu/bet_tennis/env/lib/python3.8/site-packages/sklearn/linear_model/_logistic.py:460: ConvergenceWarning: lbfgs failed to converge (status=1):\n",
      "STOP: TOTAL NO. of ITERATIONS REACHED LIMIT.\n",
      "\n",
      "Increase the number of iterations (max_iter) or scale the data as shown in:\n",
      "    https://scikit-learn.org/stable/modules/preprocessing.html\n",
      "Please also refer to the documentation for alternative solver options:\n",
      "    https://scikit-learn.org/stable/modules/linear_model.html#logistic-regression\n",
      "  n_iter_i = _check_optimize_result(\n",
      "/home/ubuntu/bet_tennis/env/lib/python3.8/site-packages/sklearn/linear_model/_logistic.py:460: ConvergenceWarning: lbfgs failed to converge (status=1):\n",
      "STOP: TOTAL NO. of ITERATIONS REACHED LIMIT.\n",
      "\n",
      "Increase the number of iterations (max_iter) or scale the data as shown in:\n",
      "    https://scikit-learn.org/stable/modules/preprocessing.html\n",
      "Please also refer to the documentation for alternative solver options:\n",
      "    https://scikit-learn.org/stable/modules/linear_model.html#logistic-regression\n",
      "  n_iter_i = _check_optimize_result(\n",
      "/home/ubuntu/bet_tennis/env/lib/python3.8/site-packages/sklearn/linear_model/_logistic.py:460: ConvergenceWarning: lbfgs failed to converge (status=1):\n",
      "STOP: TOTAL NO. of ITERATIONS REACHED LIMIT.\n",
      "\n",
      "Increase the number of iterations (max_iter) or scale the data as shown in:\n",
      "    https://scikit-learn.org/stable/modules/preprocessing.html\n",
      "Please also refer to the documentation for alternative solver options:\n",
      "    https://scikit-learn.org/stable/modules/linear_model.html#logistic-regression\n",
      "  n_iter_i = _check_optimize_result(\n",
      "/home/ubuntu/bet_tennis/env/lib/python3.8/site-packages/sklearn/linear_model/_logistic.py:460: ConvergenceWarning: lbfgs failed to converge (status=1):\n",
      "STOP: TOTAL NO. of ITERATIONS REACHED LIMIT.\n",
      "\n",
      "Increase the number of iterations (max_iter) or scale the data as shown in:\n",
      "    https://scikit-learn.org/stable/modules/preprocessing.html\n",
      "Please also refer to the documentation for alternative solver options:\n",
      "    https://scikit-learn.org/stable/modules/linear_model.html#logistic-regression\n",
      "  n_iter_i = _check_optimize_result(\n",
      "/home/ubuntu/bet_tennis/env/lib/python3.8/site-packages/sklearn/linear_model/_logistic.py:460: ConvergenceWarning: lbfgs failed to converge (status=1):\n",
      "STOP: TOTAL NO. of ITERATIONS REACHED LIMIT.\n",
      "\n",
      "Increase the number of iterations (max_iter) or scale the data as shown in:\n",
      "    https://scikit-learn.org/stable/modules/preprocessing.html\n",
      "Please also refer to the documentation for alternative solver options:\n",
      "    https://scikit-learn.org/stable/modules/linear_model.html#logistic-regression\n",
      "  n_iter_i = _check_optimize_result(\n",
      "/home/ubuntu/bet_tennis/env/lib/python3.8/site-packages/sklearn/linear_model/_logistic.py:460: ConvergenceWarning: lbfgs failed to converge (status=1):\n",
      "STOP: TOTAL NO. of ITERATIONS REACHED LIMIT.\n",
      "\n",
      "Increase the number of iterations (max_iter) or scale the data as shown in:\n",
      "    https://scikit-learn.org/stable/modules/preprocessing.html\n",
      "Please also refer to the documentation for alternative solver options:\n",
      "    https://scikit-learn.org/stable/modules/linear_model.html#logistic-regression\n",
      "  n_iter_i = _check_optimize_result(\n",
      "/home/ubuntu/bet_tennis/env/lib/python3.8/site-packages/sklearn/linear_model/_logistic.py:460: ConvergenceWarning: lbfgs failed to converge (status=1):\n",
      "STOP: TOTAL NO. of ITERATIONS REACHED LIMIT.\n",
      "\n",
      "Increase the number of iterations (max_iter) or scale the data as shown in:\n",
      "    https://scikit-learn.org/stable/modules/preprocessing.html\n",
      "Please also refer to the documentation for alternative solver options:\n",
      "    https://scikit-learn.org/stable/modules/linear_model.html#logistic-regression\n",
      "  n_iter_i = _check_optimize_result(\n",
      "/home/ubuntu/bet_tennis/env/lib/python3.8/site-packages/sklearn/linear_model/_logistic.py:460: ConvergenceWarning: lbfgs failed to converge (status=1):\n",
      "STOP: TOTAL NO. of ITERATIONS REACHED LIMIT.\n",
      "\n",
      "Increase the number of iterations (max_iter) or scale the data as shown in:\n",
      "    https://scikit-learn.org/stable/modules/preprocessing.html\n",
      "Please also refer to the documentation for alternative solver options:\n",
      "    https://scikit-learn.org/stable/modules/linear_model.html#logistic-regression\n",
      "  n_iter_i = _check_optimize_result(\n",
      "/home/ubuntu/bet_tennis/env/lib/python3.8/site-packages/sklearn/linear_model/_logistic.py:460: ConvergenceWarning: lbfgs failed to converge (status=1):\n",
      "STOP: TOTAL NO. of ITERATIONS REACHED LIMIT.\n",
      "\n",
      "Increase the number of iterations (max_iter) or scale the data as shown in:\n",
      "    https://scikit-learn.org/stable/modules/preprocessing.html\n",
      "Please also refer to the documentation for alternative solver options:\n",
      "    https://scikit-learn.org/stable/modules/linear_model.html#logistic-regression\n",
      "  n_iter_i = _check_optimize_result(\n",
      "/home/ubuntu/bet_tennis/env/lib/python3.8/site-packages/sklearn/linear_model/_logistic.py:460: ConvergenceWarning: lbfgs failed to converge (status=1):\n",
      "STOP: TOTAL NO. of ITERATIONS REACHED LIMIT.\n",
      "\n",
      "Increase the number of iterations (max_iter) or scale the data as shown in:\n",
      "    https://scikit-learn.org/stable/modules/preprocessing.html\n",
      "Please also refer to the documentation for alternative solver options:\n",
      "    https://scikit-learn.org/stable/modules/linear_model.html#logistic-regression\n",
      "  n_iter_i = _check_optimize_result(\n",
      "/home/ubuntu/bet_tennis/env/lib/python3.8/site-packages/sklearn/linear_model/_logistic.py:460: ConvergenceWarning: lbfgs failed to converge (status=1):\n",
      "STOP: TOTAL NO. of ITERATIONS REACHED LIMIT.\n",
      "\n",
      "Increase the number of iterations (max_iter) or scale the data as shown in:\n",
      "    https://scikit-learn.org/stable/modules/preprocessing.html\n",
      "Please also refer to the documentation for alternative solver options:\n",
      "    https://scikit-learn.org/stable/modules/linear_model.html#logistic-regression\n",
      "  n_iter_i = _check_optimize_result(\n"
     ]
    },
    {
     "data": {
      "image/png": "[encoded data removed]",
      "text/plain": [
       "<Figure size 640x480 with 1 Axes>"
      ]
     },
     "metadata": {},
     "output_type": "display_data"
    }
   ],
   "source": [
    "train_sizes, train_scores, test_scores = learning_curve(estimator=model, \n",
    "                                                        X=X_train, \n",
    "                                                        y=y_train,\n",
    "                                                        cv=5, \n",
    "                                                        train_sizes=np.linspace(0.1, 1.0, 5),\n",
    "                                                        random_state=42\n",
    "                                                       )\n",
    "\n",
    "#\n",
    "# Trop de fluctuation dans le modèle, on calcule la moyenne des métriques\n",
    "#\n",
    "train_mean = np.mean(train_scores, axis=1)\n",
    "train_std = np.std(train_scores, axis=1)\n",
    "test_mean = np.mean(test_scores, axis=1)\n",
    "test_std = np.std(test_scores, axis=1)\n",
    "#\n",
    "# Plot the learning curve\n",
    "#\n",
    "plt.plot(train_sizes, train_mean, color='blue', marker='o', markersize=5, label='Training Accuracy')\n",
    "plt.fill_between(train_sizes, train_mean + train_std, train_mean - train_std, alpha=0.15, color='blue')\n",
    "plt.plot(train_sizes, test_mean, color='green', marker='+', markersize=5, linestyle='--', label='Validation Accuracy')\n",
    "plt.fill_between(train_sizes, test_mean + test_std, test_mean - test_std, alpha=0.15, color='green')\n",
    "plt.title('Learning Curve')\n",
    "plt.xlabel('Training Data Size')\n",
    "plt.ylabel('Model accuracy')\n",
    "plt.grid()\n",
    "plt.legend(loc='lower right')\n",
    "plt.show()"
   ]
  },
  {
   "cell_type": "code",
   "execution_count": 80,
   "metadata": {},
   "outputs": [
    {
     "data": {
      "text/plain": [
       "['modele_logistic_regression.pkl']"
      ]
     },
     "execution_count": 80,
     "metadata": {},
     "output_type": "execute_result"
    }
   ],
   "source": [
    "model_filename =\"modele_logistic_regression.pkl\"\n",
    "joblib.dump(model, model_filename)"
   ]
  },
  {
   "cell_type": "code",
   "execution_count": 82,
   "metadata": {},
   "outputs": [],
   "source": [
    "#Load model\n",
    "# Pour charger le modèle plus tard\n",
    "loaded_model = joblib.load(model_filename)"
   ]
  },
  {
   "cell_type": "code",
   "execution_count": null,
   "metadata": {},
   "outputs": [],
   "source": []
  },
  {
   "cell_type": "code",
   "execution_count": null,
   "metadata": {},
   "outputs": [],
   "source": []
  },
  {
   "cell_type": "code",
   "execution_count": null,
   "metadata": {},
   "outputs": [],
   "source": []
  },
  {
   "cell_type": "code",
   "execution_count": null,
   "metadata": {},
   "outputs": [],
   "source": []
  },
  {
   "cell_type": "code",
   "execution_count": null,
   "metadata": {},
   "outputs": [],
   "source": []
  },
  {
   "cell_type": "code",
   "execution_count": null,
   "metadata": {},
   "outputs": [],
   "source": []
  },
  {
   "cell_type": "code",
   "execution_count": null,
   "metadata": {},
   "outputs": [],
   "source": []
  },
  {
   "cell_type": "code",
   "execution_count": null,
   "metadata": {},
   "outputs": [],
   "source": []
  },
  {
   "cell_type": "code",
   "execution_count": null,
   "metadata": {},
   "outputs": [],
   "source": []
  },
  {
   "cell_type": "code",
   "execution_count": null,
   "metadata": {},
   "outputs": [],
   "source": []
  },
  {
   "cell_type": "code",
   "execution_count": null,
   "metadata": {},
   "outputs": [],
   "source": []
  }
 ],
 "metadata": {
  "kernelspec": {
   "display_name": "Python 3 (ipykernel)",
   "language": "python",
   "name": "python3"
  },
  "language_info": {
   "codemirror_mode": {
    "name": "ipython",
    "version": 3
   },
   "file_extension": ".py",
   "mimetype": "text/x-python",
   "name": "python",
   "nbconvert_exporter": "python",
   "pygments_lexer": "ipython3",
   "version": "3.11.3"
  }
 },
 "nbformat": 4,
 "nbformat_minor": 2
}
